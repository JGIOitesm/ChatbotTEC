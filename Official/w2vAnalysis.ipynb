{
 "cells": [
  {
   "cell_type": "markdown",
   "metadata": {},
   "source": [
    "Code by JGIO"
   ]
  },
  {
   "cell_type": "markdown",
   "metadata": {},
   "source": [
    "# data analysis"
   ]
  },
  {
   "cell_type": "markdown",
   "metadata": {},
   "source": [
    "## import"
   ]
  },
  {
   "cell_type": "code",
   "execution_count": 1,
   "metadata": {},
   "outputs": [],
   "source": [
    "from gensim.models import Word2Vec\n",
    "import polars as pl\n",
    "import re\n",
    "import spacy\n",
    "import numpy as np\n",
    "%matplotlib widget"
   ]
  },
  {
   "cell_type": "markdown",
   "metadata": {},
   "source": [
    "### Test W2V model"
   ]
  },
  {
   "cell_type": "code",
   "execution_count": 2,
   "metadata": {},
   "outputs": [
    {
     "data": {
      "text/plain": [
       "[('reina', 0.6377933621406555),\n",
       " ('monarca', 0.6222385168075562),\n",
       " ('soberana', 0.5336526036262512),\n",
       " ('princesa', 0.5175269246101379),\n",
       " ('reyes', 0.5049415230751038),\n",
       " ('infanta', 0.5036953687667847),\n",
       " ('regente', 0.4985811114311218),\n",
       " ('soberano', 0.49261191487312317),\n",
       " ('corregente', 0.4901221692562103),\n",
       " ('trono', 0.4885112941265106)]"
      ]
     },
     "execution_count": 2,
     "metadata": {},
     "output_type": "execute_result"
    }
   ],
   "source": [
    "w2v = Word2Vec.load(\"wikipedia2vec_eswiki_20231101.model\")\n",
    "w2v.wv.most_similar(positive=[\"rey\",\"mujer\"],negative=[\"hombre\"])"
   ]
  },
  {
   "cell_type": "markdown",
   "metadata": {},
   "source": [
    "### Read data csv"
   ]
  },
  {
   "cell_type": "code",
   "execution_count": 3,
   "metadata": {},
   "outputs": [
    {
     "data": {
      "text/html": [
       "<div><style>\n",
       ".dataframe > thead > tr,\n",
       ".dataframe > tbody > tr {\n",
       "  text-align: right;\n",
       "  white-space: pre-wrap;\n",
       "}\n",
       "</style>\n",
       "<small>shape: (18, 1)</small><table border=\"1\" class=\"dataframe\"><thead><tr><th>column_1</th></tr><tr><td>str</td></tr></thead><tbody><tr><td>&quot;Ubicación: Fer…</td></tr><tr><td>&quot;Historia: Fund…</td></tr><tr><td>&quot;Productos y Se…</td></tr><tr><td>&quot;Herramientas M…</td></tr><tr><td>&quot;Materiales de …</td></tr><tr><td>&quot;Ferretería en …</td></tr><tr><td>&quot;Pinturas y Aca…</td></tr><tr><td>&quot;Asesoramiento …</td></tr><tr><td>&quot;Compromiso con…</td></tr><tr><td>&quot;Horario de Ate…</td></tr><tr><td>&quot;Aceptación de …</td></tr><tr><td>&quot;Uso Adecuado d…</td></tr><tr><td>&quot;Política de De…</td></tr><tr><td>&quot;Responsabilida…</td></tr><tr><td>&quot;Política de Pr…</td></tr><tr><td>&quot;Derechos de Pr…</td></tr><tr><td>&quot;Comportamiento…</td></tr><tr><td>&quot;Privacidad y P…</td></tr></tbody></table></div>"
      ],
      "text/plain": [
       "shape: (18, 1)\n",
       "┌───────────────────────────────────┐\n",
       "│ column_1                          │\n",
       "│ ---                               │\n",
       "│ str                               │\n",
       "╞═══════════════════════════════════╡\n",
       "│ Ubicación: Ferretería \"Patito\" s… │\n",
       "│ Historia: Fundada en 1995 por el… │\n",
       "│ Productos y Servicios: En Ferret… │\n",
       "│ Herramientas Manuales y Eléctric… │\n",
       "│ Materiales de Construcción: Cont… │\n",
       "│ …                                 │\n",
       "│ Responsabilidad del Cliente: Los… │\n",
       "│ Política de Precios: Nos esforza… │\n",
       "│ Derechos de Propiedad Intelectua… │\n",
       "│ Comportamiento del Cliente: Se e… │\n",
       "│ Privacidad y Protección de Datos… │\n",
       "└───────────────────────────────────┘"
      ]
     },
     "execution_count": 3,
     "metadata": {},
     "output_type": "execute_result"
    }
   ],
   "source": [
    "df = pl.read_csv(\"data.csv\", has_header=False)\n",
    "df"
   ]
  },
  {
   "cell_type": "markdown",
   "metadata": {},
   "source": [
    "## Transform and Analyse"
   ]
  },
  {
   "cell_type": "markdown",
   "metadata": {},
   "source": [
    "### Lemmatize"
   ]
  },
  {
   "cell_type": "markdown",
   "metadata": {},
   "source": [
    "import spacy model and create cleaning function to lemmatize"
   ]
  },
  {
   "cell_type": "code",
   "execution_count": 5,
   "metadata": {},
   "outputs": [
    {
     "data": {
      "text/plain": [
       "'ubicación ferretería patito estratégicamente ubicado corazón ciudad méxico concurrido zona comercial colonia roma dirección exacto avenida insurgente sur colonia roma ciudad méxico'"
      ]
     },
     "execution_count": 5,
     "metadata": {},
     "output_type": "execute_result"
    }
   ],
   "source": [
    "nlp = spacy.load(\"es_core_news_lg\", disable=['ner', 'parser'])\n",
    "def cleaning(doc):\n",
    "    txt = [token.lemma_ for token in doc if not token.is_stop]\n",
    "    if len(txt) > 2:\n",
    "        return ' '.join(txt)\n",
    "cleaning(nlp(re.sub('[^A-Za-zÁÉÍÓÚÜÑáéíóúüñ]+',' ',df.row(0)[0]).lower()))"
   ]
  },
  {
   "cell_type": "code",
   "execution_count": 5,
   "metadata": {},
   "outputs": [
    {
     "data": {
      "text/html": [
       "<div><style>\n",
       ".dataframe > thead > tr,\n",
       ".dataframe > tbody > tr {\n",
       "  text-align: right;\n",
       "  white-space: pre-wrap;\n",
       "}\n",
       "</style>\n",
       "<small>shape: (18, 1)</small><table border=\"1\" class=\"dataframe\"><thead><tr><th>map</th></tr><tr><td>str</td></tr></thead><tbody><tr><td>&quot;ubicación ferr…</td></tr><tr><td>&quot;historia funda…</td></tr><tr><td>&quot;producto servi…</td></tr><tr><td>&quot;herramienta ma…</td></tr><tr><td>&quot;material const…</td></tr><tr><td>&quot;ferretería gen…</td></tr><tr><td>&quot;pintura acabad…</td></tr><tr><td>&quot;asesoramiento …</td></tr><tr><td>&quot;compromiso cal…</td></tr><tr><td>&quot;horario atenci…</td></tr><tr><td>&quot;aceptación tér…</td></tr><tr><td>&quot;adecuado produ…</td></tr><tr><td>&quot;política devol…</td></tr><tr><td>&quot;responsabilida…</td></tr><tr><td>&quot;política preci…</td></tr><tr><td>&quot;derecho propie…</td></tr><tr><td>&quot;comportamiento…</td></tr><tr><td>&quot;privacidad pro…</td></tr></tbody></table></div>"
      ],
      "text/plain": [
       "shape: (18, 1)\n",
       "┌───────────────────────────────────┐\n",
       "│ map                               │\n",
       "│ ---                               │\n",
       "│ str                               │\n",
       "╞═══════════════════════════════════╡\n",
       "│ ubicación ferretería patito estr… │\n",
       "│ historia fundado emprendedor jua… │\n",
       "│ producto servicio ferretería pat… │\n",
       "│ herramienta manual eléctrico mar… │\n",
       "│ material construcción contar mat… │\n",
       "│ …                                 │\n",
       "│ responsabilidad cliente cliente … │\n",
       "│ política precio esforzar mantene… │\n",
       "│ derecho propiedad intelectual co… │\n",
       "│ comportamiento cliente esperar c… │\n",
       "│ privacidad protección dato ferre… │\n",
       "└───────────────────────────────────┘"
      ]
     },
     "execution_count": 5,
     "metadata": {},
     "output_type": "execute_result"
    }
   ],
   "source": [
    "df1 = df.map_rows(lambda row: (cleaning(nlp(re.sub('[^A-Za-zÁÉÍÓÚÜÑáéíóúüñ]+',' ',row[0]).lower()))))\n",
    "df1"
   ]
  },
  {
   "cell_type": "markdown",
   "metadata": {},
   "source": [
    "### Separate lemmatized text to list and drop map column"
   ]
  },
  {
   "cell_type": "code",
   "execution_count": 6,
   "metadata": {},
   "outputs": [
    {
     "data": {
      "text/html": [
       "<div><style>\n",
       ".dataframe > thead > tr,\n",
       ".dataframe > tbody > tr {\n",
       "  text-align: right;\n",
       "  white-space: pre-wrap;\n",
       "}\n",
       "</style>\n",
       "<small>shape: (18, 1)</small><table border=\"1\" class=\"dataframe\"><thead><tr><th>split</th></tr><tr><td>list[str]</td></tr></thead><tbody><tr><td>[&quot;ubicación&quot;, &quot;ferretería&quot;, … &quot;méxico&quot;]</td></tr><tr><td>[&quot;historia&quot;, &quot;fundado&quot;, … &quot;ciudad&quot;]</td></tr><tr><td>[&quot;producto&quot;, &quot;servicio&quot;, … &quot;profesional&quot;]</td></tr><tr><td>[&quot;herramienta&quot;, &quot;manual&quot;, … &quot;proyecto&quot;]</td></tr><tr><td>[&quot;material&quot;, &quot;construcción&quot;, … &quot;construcción&quot;]</td></tr><tr><td>[&quot;ferretería&quot;, &quot;general&quot;, … &quot;reparación&quot;]</td></tr><tr><td>[&quot;pintura&quot;, &quot;acabado&quot;, … &quot;espacio&quot;]</td></tr><tr><td>[&quot;asesoramiento&quot;, &quot;profesional&quot;, … &quot;proyecto&quot;]</td></tr><tr><td>[&quot;compromiso&quot;, &quot;calidad&quot;, … &quot;expectativa&quot;]</td></tr><tr><td>[&quot;horario&quot;, &quot;atención&quot;, … &quot;hogar&quot;]</td></tr><tr><td>[&quot;aceptación&quot;, &quot;término&quot;, … &quot;servicio&quot;]</td></tr><tr><td>[&quot;adecuado&quot;, &quot;producto&quot;, … &quot;resultar&quot;]</td></tr><tr><td>[&quot;política&quot;, &quot;devolución&quot;, … &quot;ferretería&quot;]</td></tr><tr><td>[&quot;responsabilidad&quot;, &quot;cliente&quot;, … &quot;incorrecto&quot;]</td></tr><tr><td>[&quot;política&quot;, &quot;precio&quot;, … &quot;compra&quot;]</td></tr><tr><td>[&quot;derecho&quot;, &quot;propiedad&quot;, … &quot;contenido&quot;]</td></tr><tr><td>[&quot;comportamiento&quot;, &quot;cliente&quot;, … &quot;disruptivo&quot;]</td></tr><tr><td>[&quot;privacidad&quot;, &quot;protección&quot;, … &quot;consentimiento&quot;]</td></tr></tbody></table></div>"
      ],
      "text/plain": [
       "shape: (18, 1)\n",
       "┌───────────────────────────────────┐\n",
       "│ split                             │\n",
       "│ ---                               │\n",
       "│ list[str]                         │\n",
       "╞═══════════════════════════════════╡\n",
       "│ [\"ubicación\", \"ferretería\", … \"m… │\n",
       "│ [\"historia\", \"fundado\", … \"ciuda… │\n",
       "│ [\"producto\", \"servicio\", … \"prof… │\n",
       "│ [\"herramienta\", \"manual\", … \"pro… │\n",
       "│ [\"material\", \"construcción\", … \"… │\n",
       "│ …                                 │\n",
       "│ [\"responsabilidad\", \"cliente\", …… │\n",
       "│ [\"política\", \"precio\", … \"compra… │\n",
       "│ [\"derecho\", \"propiedad\", … \"cont… │\n",
       "│ [\"comportamiento\", \"cliente\", … … │\n",
       "│ [\"privacidad\", \"protección\", … \"… │\n",
       "└───────────────────────────────────┘"
      ]
     },
     "execution_count": 6,
     "metadata": {},
     "output_type": "execute_result"
    }
   ],
   "source": [
    "df1 = df1.with_columns(pl.col(\"map\").str.split(by=\" \").alias(\"split\"))\n",
    "df1 = df1.drop([\"map\"])\n",
    "df1"
   ]
  },
  {
   "cell_type": "markdown",
   "metadata": {},
   "source": [
    "### Create doc to vec function as an average of the vectors of the words in the doc"
   ]
  },
  {
   "cell_type": "code",
   "execution_count": 7,
   "metadata": {},
   "outputs": [
    {
     "data": {
      "text/plain": [
       "array([ 2.12836012e-01, -1.27560198e-01, -4.52510148e-01, -4.02413979e-02,\n",
       "       -5.87529913e-02, -5.56848586e-01, -2.52582669e-01, -1.62145481e-01,\n",
       "       -6.31863534e-01,  4.13512111e-01, -1.66260108e-01,  3.57398111e-03,\n",
       "       -2.59342939e-01, -1.95746034e-01,  1.68473497e-01, -5.25520481e-02,\n",
       "       -3.26525062e-01, -1.96536973e-01, -1.72310010e-01, -1.01338744e-01,\n",
       "        2.88965762e-01,  5.22659361e-01,  2.63483226e-01, -1.47314772e-01,\n",
       "       -5.58546185e-01,  3.66457365e-02, -7.03997374e-01, -3.93181503e-01,\n",
       "        2.49967158e-01, -8.30279067e-02, -4.23828401e-02,  1.02340090e+00,\n",
       "        2.46616691e-01, -1.99524656e-01,  1.71442851e-01,  7.16329552e-03,\n",
       "       -3.90876293e-01,  2.55525172e-01, -2.23956004e-01,  3.00640404e-01,\n",
       "       -1.65765628e-01,  5.22411950e-02, -4.04426277e-01,  2.37454429e-01,\n",
       "        4.78758782e-01, -7.07135618e-01, -1.57686606e-01, -8.59083772e-01,\n",
       "        3.02236915e-01, -2.16300577e-01, -1.26846731e-01, -3.14361542e-01,\n",
       "       -6.67401969e-01,  2.38726750e-01,  1.76831886e-01,  7.74704218e-02,\n",
       "       -3.31993729e-01,  9.44583118e-02, -1.07687485e+00,  1.08247325e-01,\n",
       "       -4.79558438e-01,  1.99759424e-01,  3.47424716e-01, -3.83169651e-01,\n",
       "       -4.14449513e-01,  1.39206186e-01,  1.66460857e-01, -7.51142576e-02,\n",
       "        3.40424985e-01, -9.02406173e-04,  4.03316051e-01,  4.37948108e-02,\n",
       "        7.17500627e-01, -1.44426495e-01,  3.61012846e-01,  4.82528180e-01,\n",
       "        4.12457854e-01, -1.60252705e-01,  1.02095544e+00, -2.12139472e-01,\n",
       "        1.43735364e-01,  5.31841755e-01, -3.18150491e-01, -1.92941993e-01,\n",
       "       -3.75336260e-01, -6.97090209e-01,  7.14483857e-02, -7.00159930e-03,\n",
       "        1.01274513e-01, -2.11873636e-01,  1.79613262e-01,  3.38461876e-01,\n",
       "        4.99589831e-01,  3.72928828e-01, -1.34319708e-01, -3.13023120e-01,\n",
       "       -4.02153671e-01,  2.16426939e-01,  4.49913502e-01,  4.65174317e-01,\n",
       "       -3.39065760e-01, -2.03904763e-01,  1.15615092e-02,  2.22027302e-01,\n",
       "       -1.91473830e-02,  2.31108051e-02,  6.50243834e-02, -1.26362562e-01,\n",
       "        2.64874339e-01, -2.61511584e-03,  3.99289608e-01,  5.22309393e-02,\n",
       "       -3.87883395e-01,  7.45256782e-01, -2.20148131e-01, -1.90830484e-01,\n",
       "        1.48889765e-01,  2.45124117e-01, -2.03116283e-01, -1.68599878e-02,\n",
       "       -1.42029729e-02, -5.54928221e-02, -4.02322948e-01,  3.87421697e-01,\n",
       "        4.89817142e-01, -2.62411773e-01, -3.87416929e-01, -1.94309860e-01,\n",
       "        8.81820545e-03, -1.32571816e-01,  2.19869182e-01, -3.90933961e-01,\n",
       "        1.00875981e-01,  3.21380436e-01, -7.59057850e-02, -6.74717963e-01,\n",
       "       -7.56119132e-01,  6.14694178e-01,  2.25394256e-02, -2.17480272e-01,\n",
       "        3.17448318e-01, -3.40086281e-01, -6.05512679e-01, -2.71313697e-01,\n",
       "       -1.39549628e-01,  1.65401921e-01,  1.25279054e-01, -1.50333494e-01,\n",
       "        7.88375854e-01, -2.87895016e-02, -3.57766151e-01,  3.00333686e-02,\n",
       "        3.49178426e-02,  8.80059600e-01,  7.30061382e-02, -2.82678157e-01,\n",
       "       -6.09444268e-02,  1.71165809e-01, -9.08112526e-02, -2.25711847e-03,\n",
       "        1.58878550e-01,  2.54919715e-02, -2.97478348e-01, -4.25501704e-01,\n",
       "       -1.46875829e-01,  5.11863865e-02,  1.22087270e-01,  8.00833628e-02,\n",
       "        9.86589193e-02, -2.64559668e-02,  1.25556007e-01,  1.13685198e-01,\n",
       "       -8.26460779e-01,  5.76133616e-02,  6.33742571e-01,  2.54146963e-01,\n",
       "        1.69492185e-01, -5.42702675e-01,  3.73654634e-01,  5.26550829e-01,\n",
       "       -6.28077924e-01,  1.10806964e-01,  1.57623306e-01,  2.49415785e-01,\n",
       "        7.49663869e-03,  1.09373853e-01,  8.89536068e-02,  7.43831173e-02,\n",
       "        1.62567750e-01,  1.67240053e-01,  1.96227416e-01, -1.02937885e-01,\n",
       "       -6.11474097e-01,  8.92122313e-02, -3.17656696e-01,  3.03281993e-01,\n",
       "       -1.55469492e-01,  8.72841254e-02,  3.55541743e-02, -3.85038972e-01,\n",
       "       -9.90644991e-02,  5.00286996e-01,  5.85351408e-01, -8.00710469e-02,\n",
       "        2.93782115e-01, -6.65357292e-01, -2.28507951e-01,  8.15383554e-01,\n",
       "       -4.58042398e-02,  6.14208698e-01, -5.58105886e-01,  9.52822492e-02,\n",
       "       -8.15114826e-02, -2.68784642e-01, -7.71870434e-01, -9.23391804e-02,\n",
       "        1.13099463e-01, -1.46291405e-01,  1.64831087e-01,  4.74873722e-01,\n",
       "        4.80446994e-01, -6.87013045e-02, -1.85205415e-01,  1.42915383e-01,\n",
       "        2.60188431e-01,  4.76076826e-02, -1.85281988e-02, -3.46341014e-01,\n",
       "        3.24164659e-01,  8.60221460e-02,  1.92680225e-01, -6.60649464e-02,\n",
       "        2.01295704e-01, -9.78065729e-02, -4.02202398e-01,  2.54621774e-01,\n",
       "        1.53967753e-01, -3.00803453e-01, -3.45772684e-01,  2.06876770e-01,\n",
       "       -2.56442457e-01,  2.37079769e-01,  5.05404592e-01, -2.16525033e-01,\n",
       "        5.65676451e-01,  1.73907459e-01, -3.63093823e-01, -4.89953049e-02,\n",
       "        7.39892960e-01,  2.18963295e-01, -4.50440586e-01,  1.21798016e-01,\n",
       "       -2.54430175e-01,  4.48061764e-01, -4.00994681e-02,  2.53588289e-01,\n",
       "       -2.88244754e-01, -2.47804299e-01,  2.39147902e-01, -5.89278042e-01,\n",
       "       -3.50258052e-01, -3.81194204e-01, -3.73485386e-01, -1.16024233e-01,\n",
       "        5.38374148e-02, -2.15411857e-01,  3.18291992e-01,  5.84820770e-02,\n",
       "       -3.08070201e-02, -1.79667413e-01, -9.83359590e-02,  5.67621291e-01,\n",
       "        2.96194643e-01, -8.56120512e-02, -7.37673417e-02, -8.98336172e-02,\n",
       "       -2.05212682e-01, -6.11676574e-01, -2.27301121e-01,  2.91422233e-02,\n",
       "        2.91955948e-01, -6.63673878e-02, -2.60457536e-03,  2.51722395e-01,\n",
       "        4.65744942e-01,  6.23218298e-01, -7.88827688e-02,  2.59047002e-01,\n",
       "       -1.90617308e-01, -7.62434244e-01, -9.49876085e-02,  1.02184556e-01,\n",
       "       -1.67386487e-01, -3.54981333e-01, -8.68888199e-03, -4.55455750e-01,\n",
       "        4.28415015e-02,  7.28878453e-02, -5.13830818e-02,  2.78735999e-02],\n",
       "      dtype=float32)"
      ]
     },
     "execution_count": 7,
     "metadata": {},
     "output_type": "execute_result"
    }
   ],
   "source": [
    "def c2v(l):\n",
    "    r = []\n",
    "    for i in l:\n",
    "        try:\n",
    "            r.append(w2v.wv[i])\n",
    "        except:\n",
    "            print(\"skipped\")\n",
    "    return np.mean(np.array(r),axis=0)\n",
    "c2v(df1.row(0)[0])"
   ]
  },
  {
   "cell_type": "code",
   "execution_count": 8,
   "metadata": {},
   "outputs": [
    {
     "name": "stdout",
     "output_type": "stream",
     "text": [
      "skipped\n",
      "skipped\n"
     ]
    },
    {
     "data": {
      "text/html": [
       "<div><style>\n",
       ".dataframe > thead > tr,\n",
       ".dataframe > tbody > tr {\n",
       "  text-align: right;\n",
       "  white-space: pre-wrap;\n",
       "}\n",
       "</style>\n",
       "<small>shape: (18, 300)</small><table border=\"1\" class=\"dataframe\"><thead><tr><th>column_0</th><th>column_1</th><th>column_2</th><th>column_3</th><th>column_4</th><th>column_5</th><th>column_6</th><th>column_7</th><th>column_8</th><th>column_9</th><th>column_10</th><th>column_11</th><th>column_12</th><th>column_13</th><th>column_14</th><th>column_15</th><th>column_16</th><th>column_17</th><th>column_18</th><th>column_19</th><th>column_20</th><th>column_21</th><th>column_22</th><th>column_23</th><th>column_24</th><th>column_25</th><th>column_26</th><th>column_27</th><th>column_28</th><th>column_29</th><th>column_30</th><th>column_31</th><th>column_32</th><th>column_33</th><th>column_34</th><th>column_35</th><th>column_36</th><th>&hellip;</th><th>column_263</th><th>column_264</th><th>column_265</th><th>column_266</th><th>column_267</th><th>column_268</th><th>column_269</th><th>column_270</th><th>column_271</th><th>column_272</th><th>column_273</th><th>column_274</th><th>column_275</th><th>column_276</th><th>column_277</th><th>column_278</th><th>column_279</th><th>column_280</th><th>column_281</th><th>column_282</th><th>column_283</th><th>column_284</th><th>column_285</th><th>column_286</th><th>column_287</th><th>column_288</th><th>column_289</th><th>column_290</th><th>column_291</th><th>column_292</th><th>column_293</th><th>column_294</th><th>column_295</th><th>column_296</th><th>column_297</th><th>column_298</th><th>column_299</th></tr><tr><td>f64</td><td>f64</td><td>f64</td><td>f64</td><td>f64</td><td>f64</td><td>f64</td><td>f64</td><td>f64</td><td>f64</td><td>f64</td><td>f64</td><td>f64</td><td>f64</td><td>f64</td><td>f64</td><td>f64</td><td>f64</td><td>f64</td><td>f64</td><td>f64</td><td>f64</td><td>f64</td><td>f64</td><td>f64</td><td>f64</td><td>f64</td><td>f64</td><td>f64</td><td>f64</td><td>f64</td><td>f64</td><td>f64</td><td>f64</td><td>f64</td><td>f64</td><td>f64</td><td>&hellip;</td><td>f64</td><td>f64</td><td>f64</td><td>f64</td><td>f64</td><td>f64</td><td>f64</td><td>f64</td><td>f64</td><td>f64</td><td>f64</td><td>f64</td><td>f64</td><td>f64</td><td>f64</td><td>f64</td><td>f64</td><td>f64</td><td>f64</td><td>f64</td><td>f64</td><td>f64</td><td>f64</td><td>f64</td><td>f64</td><td>f64</td><td>f64</td><td>f64</td><td>f64</td><td>f64</td><td>f64</td><td>f64</td><td>f64</td><td>f64</td><td>f64</td><td>f64</td><td>f64</td></tr></thead><tbody><tr><td>0.212836</td><td>-0.12756</td><td>-0.45251</td><td>-0.040241</td><td>-0.058753</td><td>-0.556849</td><td>-0.252583</td><td>-0.162145</td><td>-0.631864</td><td>0.413512</td><td>-0.16626</td><td>0.003574</td><td>-0.259343</td><td>-0.195746</td><td>0.168473</td><td>-0.052552</td><td>-0.326525</td><td>-0.196537</td><td>-0.17231</td><td>-0.101339</td><td>0.288966</td><td>0.522659</td><td>0.263483</td><td>-0.147315</td><td>-0.558546</td><td>0.036646</td><td>-0.703997</td><td>-0.393182</td><td>0.249967</td><td>-0.083028</td><td>-0.042383</td><td>1.023401</td><td>0.246617</td><td>-0.199525</td><td>0.171443</td><td>0.007163</td><td>-0.390876</td><td>&hellip;</td><td>-0.116024</td><td>0.053837</td><td>-0.215412</td><td>0.318292</td><td>0.058482</td><td>-0.030807</td><td>-0.179667</td><td>-0.098336</td><td>0.567621</td><td>0.296195</td><td>-0.085612</td><td>-0.073767</td><td>-0.089834</td><td>-0.205213</td><td>-0.611677</td><td>-0.227301</td><td>0.029142</td><td>0.291956</td><td>-0.066367</td><td>-0.002605</td><td>0.251722</td><td>0.465745</td><td>0.623218</td><td>-0.078883</td><td>0.259047</td><td>-0.190617</td><td>-0.762434</td><td>-0.094988</td><td>0.102185</td><td>-0.167386</td><td>-0.354981</td><td>-0.008689</td><td>-0.455456</td><td>0.042842</td><td>0.072888</td><td>-0.051383</td><td>0.027874</td></tr><tr><td>0.423871</td><td>0.025214</td><td>0.012068</td><td>-0.223127</td><td>-0.202673</td><td>-0.393712</td><td>-0.374561</td><td>0.259974</td><td>-0.375474</td><td>0.06919</td><td>-0.166603</td><td>-0.134075</td><td>-0.216289</td><td>-0.189332</td><td>-0.060694</td><td>-0.030486</td><td>0.194823</td><td>-0.116378</td><td>-0.23559</td><td>-0.259037</td><td>0.487899</td><td>0.427689</td><td>-0.060725</td><td>-0.160337</td><td>-0.401157</td><td>0.066193</td><td>-0.329237</td><td>-0.123573</td><td>0.203745</td><td>0.069274</td><td>-0.137278</td><td>0.664172</td><td>0.19144</td><td>0.035487</td><td>0.096587</td><td>0.262722</td><td>-0.819545</td><td>&hellip;</td><td>0.267579</td><td>0.319991</td><td>-0.283283</td><td>0.020059</td><td>-0.031595</td><td>0.381906</td><td>-0.10924</td><td>-0.185706</td><td>0.140849</td><td>0.76805</td><td>0.039422</td><td>-0.261649</td><td>-0.275816</td><td>-0.011501</td><td>-0.567118</td><td>-0.219702</td><td>0.128224</td><td>-0.286524</td><td>-0.320208</td><td>-0.145584</td><td>0.290893</td><td>0.140684</td><td>0.475552</td><td>-0.257042</td><td>-0.119533</td><td>-0.028789</td><td>-0.290617</td><td>0.111265</td><td>-0.381478</td><td>0.116171</td><td>-0.124392</td><td>0.09486</td><td>-0.237941</td><td>-0.333296</td><td>-0.013143</td><td>0.089247</td><td>0.146553</td></tr><tr><td>0.385859</td><td>0.035165</td><td>0.033237</td><td>-0.557369</td><td>-0.579002</td><td>-0.485783</td><td>-0.877546</td><td>0.242791</td><td>-0.705961</td><td>0.402078</td><td>0.10023</td><td>-0.173728</td><td>-0.509713</td><td>0.049718</td><td>-0.323029</td><td>0.215364</td><td>-0.32701</td><td>-0.495029</td><td>-0.169137</td><td>-0.423384</td><td>0.628343</td><td>0.513872</td><td>-0.604525</td><td>-0.628208</td><td>-0.175458</td><td>0.023092</td><td>-0.372065</td><td>0.229564</td><td>0.205592</td><td>0.203918</td><td>-0.505088</td><td>0.472427</td><td>0.121915</td><td>0.179966</td><td>0.326367</td><td>0.073849</td><td>-0.992093</td><td>&hellip;</td><td>0.516963</td><td>0.472586</td><td>-0.286367</td><td>-0.176856</td><td>-0.47359</td><td>0.40081</td><td>0.153803</td><td>-0.199136</td><td>-0.087543</td><td>0.523957</td><td>-0.087257</td><td>-0.010219</td><td>-0.898598</td><td>-0.019129</td><td>-0.566014</td><td>-0.239108</td><td>-0.191422</td><td>-0.797167</td><td>-0.207087</td><td>0.112941</td><td>0.868247</td><td>-0.092758</td><td>0.433557</td><td>-0.189287</td><td>-0.035938</td><td>0.469664</td><td>0.090938</td><td>-0.036988</td><td>-0.16287</td><td>0.181958</td><td>0.165856</td><td>0.176685</td><td>-0.436765</td><td>-0.665546</td><td>-0.239671</td><td>0.18433</td><td>0.093376</td></tr><tr><td>0.406118</td><td>0.302412</td><td>0.036468</td><td>-0.50005</td><td>-0.131052</td><td>0.002493</td><td>-0.054389</td><td>0.72176</td><td>-0.524406</td><td>0.606892</td><td>0.128333</td><td>-0.136146</td><td>-0.278787</td><td>0.468067</td><td>-0.310626</td><td>0.253619</td><td>-0.132123</td><td>-0.324798</td><td>-0.075846</td><td>-0.545838</td><td>0.582537</td><td>0.21807</td><td>-0.396565</td><td>-0.138196</td><td>-0.415168</td><td>-0.063165</td><td>-0.273881</td><td>0.257613</td><td>0.096426</td><td>0.149001</td><td>-0.198695</td><td>0.069611</td><td>0.242321</td><td>-0.137488</td><td>0.053384</td><td>-0.184186</td><td>-0.629436</td><td>&hellip;</td><td>0.379404</td><td>0.059307</td><td>-0.275136</td><td>-0.114843</td><td>-0.393695</td><td>0.361433</td><td>0.257503</td><td>-0.198394</td><td>-0.191552</td><td>0.34365</td><td>-0.197258</td><td>-0.053532</td><td>-0.647032</td><td>0.17516</td><td>-0.095757</td><td>-0.259961</td><td>0.152357</td><td>-0.237122</td><td>-0.124926</td><td>0.305039</td><td>0.662504</td><td>-0.040117</td><td>0.388982</td><td>0.139257</td><td>-0.198855</td><td>0.37803</td><td>-0.324647</td><td>-0.206529</td><td>-0.521431</td><td>0.201104</td><td>0.012297</td><td>0.27739</td><td>-0.32314</td><td>-0.437672</td><td>0.221411</td><td>-0.216267</td><td>-0.10492</td></tr><tr><td>-0.222472</td><td>-0.005717</td><td>0.01755</td><td>-0.152431</td><td>0.082138</td><td>-0.45164</td><td>-0.665867</td><td>0.165432</td><td>-0.534628</td><td>0.498674</td><td>0.236038</td><td>0.094743</td><td>-0.362782</td><td>0.106141</td><td>-0.252238</td><td>-0.034119</td><td>-0.275458</td><td>-0.599559</td><td>-0.095541</td><td>-0.391178</td><td>0.712369</td><td>0.563902</td><td>-0.332539</td><td>-0.381367</td><td>-1.092756</td><td>-0.329965</td><td>-0.449016</td><td>-0.025966</td><td>-0.097124</td><td>0.115147</td><td>-0.745745</td><td>0.39677</td><td>0.390946</td><td>-0.203624</td><td>0.530506</td><td>0.317422</td><td>-1.065472</td><td>&hellip;</td><td>0.479295</td><td>0.197936</td><td>-0.287452</td><td>-0.013139</td><td>-0.389713</td><td>0.430592</td><td>0.335071</td><td>-0.380843</td><td>0.295854</td><td>0.423726</td><td>-0.225374</td><td>-0.008997</td><td>-0.849865</td><td>0.346232</td><td>-0.605132</td><td>0.107615</td><td>-0.361664</td><td>-0.381799</td><td>-0.208291</td><td>0.080691</td><td>0.642929</td><td>-0.099032</td><td>0.289986</td><td>-0.093268</td><td>-0.340186</td><td>0.355064</td><td>0.017071</td><td>-0.071143</td><td>-0.547553</td><td>0.31032</td><td>0.310858</td><td>0.056379</td><td>-0.703524</td><td>-0.392997</td><td>0.362656</td><td>0.057918</td><td>-0.109119</td></tr><tr><td>-0.175948</td><td>0.251044</td><td>0.57868</td><td>-0.18834</td><td>-0.134889</td><td>-0.674244</td><td>-0.575561</td><td>0.596989</td><td>-0.457235</td><td>0.327338</td><td>-0.155796</td><td>-0.347386</td><td>-0.030644</td><td>0.294292</td><td>-0.489563</td><td>0.245185</td><td>-0.291255</td><td>-0.444115</td><td>-0.018272</td><td>-0.428581</td><td>0.361373</td><td>0.204568</td><td>-0.167897</td><td>-0.371942</td><td>-0.465282</td><td>-0.053389</td><td>-0.552517</td><td>0.244529</td><td>0.130768</td><td>0.177434</td><td>-0.778337</td><td>0.366748</td><td>0.278908</td><td>-0.230686</td><td>0.251298</td><td>0.522265</td><td>-0.693394</td><td>&hellip;</td><td>0.422927</td><td>0.448021</td><td>-0.464064</td><td>-0.356252</td><td>-0.192774</td><td>0.453984</td><td>0.569944</td><td>-0.287805</td><td>-0.046933</td><td>0.214438</td><td>-0.467071</td><td>-0.366539</td><td>-0.498214</td><td>-0.211967</td><td>-0.563618</td><td>0.142657</td><td>0.076739</td><td>-0.506741</td><td>-0.293737</td><td>0.22705</td><td>0.485774</td><td>0.017933</td><td>0.501325</td><td>-0.172824</td><td>0.022931</td><td>0.570613</td><td>-0.155529</td><td>-0.140879</td><td>-0.513497</td><td>0.158303</td><td>-0.383541</td><td>0.091375</td><td>-0.15397</td><td>-0.578252</td><td>-0.189774</td><td>0.058405</td><td>0.032852</td></tr><tr><td>0.178135</td><td>0.022982</td><td>-0.213848</td><td>-0.133932</td><td>-0.852305</td><td>-0.104335</td><td>-0.79042</td><td>-0.073752</td><td>-0.671372</td><td>0.704523</td><td>0.182869</td><td>0.044848</td><td>-0.675904</td><td>0.246938</td><td>-0.094934</td><td>-0.008603</td><td>-0.457433</td><td>-0.445713</td><td>-0.627258</td><td>-0.3387</td><td>0.520883</td><td>0.579376</td><td>-0.401504</td><td>-0.198822</td><td>-0.288183</td><td>0.074724</td><td>-0.552751</td><td>0.093068</td><td>-0.066773</td><td>0.287742</td><td>-0.416837</td><td>0.224975</td><td>0.255587</td><td>0.045755</td><td>0.200477</td><td>0.336002</td><td>-0.642228</td><td>&hellip;</td><td>0.352373</td><td>0.339299</td><td>-0.560981</td><td>-0.674634</td><td>-0.310045</td><td>0.19487</td><td>0.309852</td><td>-0.43044</td><td>0.129791</td><td>-0.055731</td><td>-0.274468</td><td>-0.363785</td><td>-0.830623</td><td>-0.102053</td><td>-0.580149</td><td>-0.296471</td><td>-0.080918</td><td>-0.57889</td><td>-0.538502</td><td>-0.042045</td><td>0.373307</td><td>-0.347435</td><td>0.662217</td><td>0.044096</td><td>0.038719</td><td>0.321522</td><td>-0.109339</td><td>-0.389375</td><td>-0.469735</td><td>0.111092</td><td>0.039666</td><td>0.227299</td><td>-0.457352</td><td>-0.4216</td><td>-0.079483</td><td>-0.201947</td><td>0.242044</td></tr><tr><td>0.599185</td><td>0.025005</td><td>0.356816</td><td>-0.978445</td><td>-0.614492</td><td>-0.609616</td><td>-0.604118</td><td>0.605126</td><td>-0.815449</td><td>0.662975</td><td>-0.076576</td><td>0.013116</td><td>-0.258014</td><td>-0.021262</td><td>-0.556723</td><td>0.222125</td><td>-0.398456</td><td>-0.281881</td><td>-0.231095</td><td>-0.2412</td><td>0.892776</td><td>0.855575</td><td>-0.629748</td><td>-0.613585</td><td>-0.21441</td><td>-0.448102</td><td>0.011035</td><td>-0.124304</td><td>0.442128</td><td>0.012933</td><td>-0.339237</td><td>0.132372</td><td>-0.17417</td><td>0.627024</td><td>0.054415</td><td>-0.438037</td><td>-0.620077</td><td>&hellip;</td><td>0.257782</td><td>0.306392</td><td>-0.281901</td><td>-0.171799</td><td>-0.144764</td><td>0.13587</td><td>0.487954</td><td>0.373235</td><td>0.056123</td><td>0.543401</td><td>-0.376073</td><td>0.424472</td><td>-0.599846</td><td>-0.005143</td><td>-0.274084</td><td>-0.557398</td><td>-0.475633</td><td>-0.241881</td><td>-0.11527</td><td>0.134698</td><td>0.305313</td><td>-0.025863</td><td>0.545038</td><td>-0.462512</td><td>-0.004291</td><td>0.423122</td><td>-0.359964</td><td>-0.287656</td><td>-0.107858</td><td>-0.265118</td><td>-0.084689</td><td>0.029696</td><td>-0.032281</td><td>-0.457986</td><td>-0.23115</td><td>0.613272</td><td>0.015541</td></tr><tr><td>0.236955</td><td>0.260596</td><td>0.040948</td><td>-0.410093</td><td>-0.455945</td><td>-0.404472</td><td>-0.930851</td><td>0.227978</td><td>-0.649143</td><td>0.368169</td><td>-0.080791</td><td>0.121134</td><td>-0.302288</td><td>-0.250972</td><td>-0.10699</td><td>-0.127647</td><td>-0.374245</td><td>-0.393302</td><td>-0.075611</td><td>-0.194209</td><td>0.815483</td><td>0.415962</td><td>-0.537307</td><td>-0.121029</td><td>-0.408175</td><td>-0.314397</td><td>-0.017073</td><td>-0.124826</td><td>0.399553</td><td>-0.055004</td><td>-0.494988</td><td>0.658587</td><td>-0.188438</td><td>0.664433</td><td>0.30551</td><td>-0.005952</td><td>-1.108427</td><td>&hellip;</td><td>0.372246</td><td>0.528815</td><td>-0.388967</td><td>-0.200894</td><td>-0.200967</td><td>0.362474</td><td>0.061914</td><td>-0.283254</td><td>-0.0909</td><td>0.887724</td><td>0.196602</td><td>0.154666</td><td>-0.512238</td><td>0.026876</td><td>-0.140718</td><td>-0.105519</td><td>-0.424078</td><td>-0.525434</td><td>-0.437513</td><td>-0.095445</td><td>0.798837</td><td>-0.19612</td><td>0.437806</td><td>-0.171648</td><td>-0.03646</td><td>0.203062</td><td>0.192346</td><td>0.034439</td><td>-0.083275</td><td>0.113247</td><td>-0.162199</td><td>-0.222194</td><td>-0.356362</td><td>-0.290594</td><td>-0.165772</td><td>0.217507</td><td>0.070869</td></tr><tr><td>-0.32656</td><td>0.241863</td><td>-0.010343</td><td>-0.071194</td><td>-0.114975</td><td>-0.455396</td><td>-0.167113</td><td>-0.05485</td><td>-0.779437</td><td>-0.039307</td><td>0.181978</td><td>-0.217534</td><td>0.256694</td><td>0.301415</td><td>0.105846</td><td>-0.276178</td><td>0.230826</td><td>-0.159156</td><td>-0.141713</td><td>-0.120152</td><td>0.33321</td><td>0.715146</td><td>-0.028786</td><td>-0.30931</td><td>-0.811367</td><td>0.310113</td><td>-0.166017</td><td>0.015034</td><td>0.602633</td><td>-0.40989</td><td>-0.073203</td><td>0.629144</td><td>-0.005542</td><td>0.343271</td><td>-0.250643</td><td>0.042482</td><td>-0.521132</td><td>&hellip;</td><td>0.272225</td><td>0.162943</td><td>0.110473</td><td>0.100124</td><td>0.276004</td><td>-0.10689</td><td>0.312849</td><td>0.103457</td><td>0.050042</td><td>0.12044</td><td>-0.148665</td><td>-0.104692</td><td>-0.149209</td><td>-0.05543</td><td>-0.352111</td><td>0.021126</td><td>-0.226647</td><td>0.065913</td><td>0.018696</td><td>-0.13437</td><td>0.339083</td><td>0.260341</td><td>0.185274</td><td>-0.263954</td><td>-0.266613</td><td>-0.25394</td><td>-0.158179</td><td>0.130954</td><td>-0.379301</td><td>-0.009433</td><td>0.06357</td><td>0.629039</td><td>-0.254832</td><td>-0.057408</td><td>-0.091928</td><td>0.18714</td><td>-0.01406</td></tr><tr><td>0.342804</td><td>0.172119</td><td>0.383844</td><td>-0.214458</td><td>-0.180002</td><td>-0.484703</td><td>-0.945985</td><td>0.1498</td><td>-0.875093</td><td>0.312186</td><td>-0.081279</td><td>-0.442958</td><td>-0.509188</td><td>-0.197269</td><td>-0.198714</td><td>0.049643</td><td>-0.022616</td><td>-0.312995</td><td>0.089869</td><td>-0.333146</td><td>0.498095</td><td>0.367714</td><td>-0.517484</td><td>-0.793526</td><td>-0.427808</td><td>0.075014</td><td>-0.265757</td><td>0.170866</td><td>0.107178</td><td>0.278439</td><td>-0.238821</td><td>0.654323</td><td>-0.247448</td><td>0.696254</td><td>0.341088</td><td>-0.106596</td><td>-0.936312</td><td>&hellip;</td><td>0.198252</td><td>0.370949</td><td>-0.604713</td><td>0.064241</td><td>-0.09955</td><td>0.169285</td><td>0.287757</td><td>-0.174844</td><td>0.045066</td><td>0.688309</td><td>0.072694</td><td>0.383874</td><td>-0.373835</td><td>-0.11499</td><td>-0.408064</td><td>-0.303389</td><td>-0.132779</td><td>-0.440894</td><td>-0.371043</td><td>0.161939</td><td>0.684683</td><td>-0.077799</td><td>0.52705</td><td>-0.131563</td><td>0.140447</td><td>0.30972</td><td>-0.015488</td><td>-0.106818</td><td>-0.219386</td><td>0.458537</td><td>0.188013</td><td>0.16973</td><td>-0.233839</td><td>-0.408858</td><td>-0.063703</td><td>0.108009</td><td>-0.273945</td></tr><tr><td>0.290034</td><td>0.035202</td><td>-0.170335</td><td>-0.605335</td><td>-0.618651</td><td>-0.40357</td><td>-0.77946</td><td>0.213276</td><td>-0.570436</td><td>0.338508</td><td>-0.009534</td><td>-0.226175</td><td>-0.355895</td><td>-0.015046</td><td>-0.228469</td><td>-0.44926</td><td>-0.387642</td><td>-0.38427</td><td>0.20395</td><td>-0.352986</td><td>0.761372</td><td>0.48979</td><td>-0.861913</td><td>-0.751436</td><td>-0.349798</td><td>-0.215102</td><td>-0.233935</td><td>0.078024</td><td>0.340639</td><td>0.482905</td><td>-0.636186</td><td>0.318761</td><td>0.000339</td><td>0.239039</td><td>0.154853</td><td>0.084904</td><td>-1.127853</td><td>&hellip;</td><td>0.415723</td><td>0.52091</td><td>-0.230286</td><td>-0.266777</td><td>-0.52813</td><td>0.15033</td><td>0.625319</td><td>-0.066401</td><td>-0.430402</td><td>0.630765</td><td>-0.076994</td><td>0.046487</td><td>-0.742627</td><td>0.188987</td><td>-0.195153</td><td>-0.392959</td><td>-0.252533</td><td>-0.770083</td><td>-0.420433</td><td>0.270726</td><td>0.676301</td><td>-0.028561</td><td>0.456424</td><td>-0.083386</td><td>-0.393277</td><td>0.331482</td><td>0.14906</td><td>-0.109994</td><td>-0.180441</td><td>0.238049</td><td>0.274325</td><td>0.035602</td><td>-0.532694</td><td>-0.589831</td><td>-0.285703</td><td>0.010194</td><td>-0.177966</td></tr><tr><td>0.38023</td><td>-0.074232</td><td>0.036933</td><td>-0.414531</td><td>-0.324693</td><td>-0.912228</td><td>-1.069525</td><td>0.153589</td><td>-0.952671</td><td>0.339054</td><td>-0.242849</td><td>-0.220657</td><td>-0.268661</td><td>-0.137379</td><td>0.095942</td><td>-0.090416</td><td>-0.332719</td><td>-0.053601</td><td>-0.083145</td><td>-0.364402</td><td>0.516991</td><td>0.3994</td><td>-0.239305</td><td>-0.455999</td><td>-0.484194</td><td>-0.023231</td><td>0.00317</td><td>0.068351</td><td>0.223687</td><td>0.53788</td><td>-0.059615</td><td>0.83722</td><td>-0.461584</td><td>0.684694</td><td>0.26297</td><td>0.069386</td><td>-0.998989</td><td>&hellip;</td><td>0.184134</td><td>0.416128</td><td>-0.282197</td><td>0.255899</td><td>-0.363084</td><td>0.1529</td><td>0.2155</td><td>-0.386604</td><td>0.003356</td><td>0.466871</td><td>-0.179792</td><td>0.511152</td><td>-0.482573</td><td>0.263098</td><td>-0.063347</td><td>-0.146507</td><td>-0.534945</td><td>-0.883592</td><td>-0.677841</td><td>0.016644</td><td>0.581779</td><td>-0.052557</td><td>0.515022</td><td>-0.32667</td><td>-0.103029</td><td>0.64861</td><td>-0.188261</td><td>-0.028544</td><td>-0.43857</td><td>0.183234</td><td>-0.257787</td><td>-0.027396</td><td>-0.476382</td><td>-0.459419</td><td>-0.381486</td><td>0.267796</td><td>-0.295692</td></tr><tr><td>0.501696</td><td>-0.206928</td><td>-0.044032</td><td>-0.497886</td><td>-0.641715</td><td>-0.891094</td><td>-0.803267</td><td>0.263013</td><td>-0.604582</td><td>0.513805</td><td>-0.269103</td><td>0.022267</td><td>-0.229472</td><td>-0.068335</td><td>0.014816</td><td>-0.21516</td><td>-0.24923</td><td>-0.360876</td><td>-0.470155</td><td>-0.325332</td><td>0.84292</td><td>0.377363</td><td>-0.766162</td><td>0.023187</td><td>-0.337447</td><td>-0.132516</td><td>-0.059853</td><td>0.079965</td><td>0.160533</td><td>0.235353</td><td>-0.303252</td><td>0.184336</td><td>-0.47633</td><td>0.498641</td><td>-0.162568</td><td>0.001788</td><td>-0.969627</td><td>&hellip;</td><td>0.227061</td><td>0.27173</td><td>-0.298601</td><td>-0.098067</td><td>-0.088851</td><td>-0.004306</td><td>0.192823</td><td>-0.151083</td><td>-0.115203</td><td>0.741766</td><td>-0.297119</td><td>0.159112</td><td>-0.344976</td><td>0.51296</td><td>-0.134096</td><td>-0.182549</td><td>-0.263628</td><td>-0.782367</td><td>-0.138333</td><td>0.190779</td><td>0.538908</td><td>0.030203</td><td>0.464471</td><td>-0.369724</td><td>-0.349725</td><td>0.521876</td><td>0.191985</td><td>-0.008458</td><td>-0.091114</td><td>0.138674</td><td>-0.323</td><td>0.407888</td><td>-0.232932</td><td>-0.269047</td><td>-0.518864</td><td>0.247953</td><td>-0.07234</td></tr><tr><td>0.238176</td><td>0.098733</td><td>0.155377</td><td>-0.378564</td><td>-0.535192</td><td>-0.284112</td><td>-0.836188</td><td>0.27849</td><td>-1.015422</td><td>0.304503</td><td>-0.185611</td><td>-0.146029</td><td>-0.480718</td><td>-0.356731</td><td>-0.187549</td><td>-0.362255</td><td>0.013857</td><td>-0.362899</td><td>-0.167188</td><td>-0.360409</td><td>0.649775</td><td>0.220163</td><td>-0.421346</td><td>-0.238876</td><td>-0.175761</td><td>0.028167</td><td>-0.055998</td><td>0.017374</td><td>0.167362</td><td>0.242115</td><td>-0.04726</td><td>0.507564</td><td>-0.274969</td><td>0.595955</td><td>0.141319</td><td>0.122016</td><td>-1.037266</td><td>&hellip;</td><td>0.018868</td><td>0.249905</td><td>-0.308383</td><td>-0.034582</td><td>-0.023204</td><td>0.065126</td><td>0.075927</td><td>-0.19563</td><td>-0.016202</td><td>0.594465</td><td>-0.124448</td><td>0.195815</td><td>-0.343098</td><td>0.135292</td><td>-0.15541</td><td>-0.083381</td><td>-0.075242</td><td>-0.505353</td><td>-0.520921</td><td>0.281718</td><td>0.804426</td><td>0.077584</td><td>0.309178</td><td>-0.288305</td><td>-0.28612</td><td>0.258266</td><td>-0.043075</td><td>0.08838</td><td>0.051658</td><td>0.147743</td><td>-0.382626</td><td>0.140726</td><td>-0.516466</td><td>-0.370987</td><td>-0.463675</td><td>-0.094111</td><td>-0.150213</td></tr><tr><td>0.504733</td><td>0.063902</td><td>-0.091682</td><td>-0.157345</td><td>-0.58599</td><td>-0.25288</td><td>-0.937332</td><td>0.041928</td><td>-0.551492</td><td>0.308411</td><td>0.247153</td><td>-0.010745</td><td>-0.603456</td><td>0.049821</td><td>-0.243304</td><td>-0.10782</td><td>0.030607</td><td>-0.272607</td><td>-0.752102</td><td>-0.347609</td><td>0.123978</td><td>0.52077</td><td>-0.270355</td><td>-0.217229</td><td>-0.450815</td><td>0.101238</td><td>-0.301078</td><td>0.114194</td><td>0.146811</td><td>0.162705</td><td>0.06362</td><td>0.111508</td><td>0.046634</td><td>0.260508</td><td>-0.02734</td><td>0.092802</td><td>-0.545248</td><td>&hellip;</td><td>-0.019471</td><td>0.108545</td><td>-0.095067</td><td>0.085633</td><td>-0.151883</td><td>-0.097678</td><td>0.268467</td><td>-0.512294</td><td>0.10108</td><td>0.365246</td><td>-0.178887</td><td>-0.153018</td><td>-0.383596</td><td>0.315207</td><td>-0.374995</td><td>-0.162817</td><td>-0.101771</td><td>-0.699696</td><td>-0.556451</td><td>0.00652</td><td>1.028433</td><td>0.220499</td><td>0.471696</td><td>-0.168174</td><td>-0.158975</td><td>-0.161445</td><td>-0.308439</td><td>-0.329765</td><td>-0.280428</td><td>0.443936</td><td>-0.178861</td><td>-0.137852</td><td>-0.386099</td><td>-0.764995</td><td>-0.257101</td><td>-0.011099</td><td>-0.214323</td></tr><tr><td>0.425883</td><td>0.129437</td><td>-0.197528</td><td>-0.300082</td><td>-0.776511</td><td>-0.42619</td><td>-0.923426</td><td>0.208694</td><td>-0.324652</td><td>0.380724</td><td>-0.223735</td><td>-0.252107</td><td>-0.17962</td><td>-0.331909</td><td>-0.449326</td><td>-0.24139</td><td>-0.536921</td><td>-0.470161</td><td>-0.130155</td><td>-0.287219</td><td>1.043046</td><td>0.272351</td><td>-0.62428</td><td>-0.057086</td><td>-0.504569</td><td>-0.040302</td><td>-0.288637</td><td>-0.038115</td><td>0.088712</td><td>-0.006019</td><td>-0.395858</td><td>0.403593</td><td>-0.423399</td><td>0.446449</td><td>-0.176996</td><td>-0.121707</td><td>-1.220374</td><td>&hellip;</td><td>0.198482</td><td>0.361329</td><td>-0.27787</td><td>-0.111166</td><td>0.067788</td><td>0.319014</td><td>-0.098031</td><td>-0.539393</td><td>-0.322769</td><td>0.420415</td><td>-0.075695</td><td>0.059397</td><td>-0.468382</td><td>0.252706</td><td>-0.009522</td><td>-0.097376</td><td>-0.107993</td><td>-0.88997</td><td>-0.280482</td><td>-0.037612</td><td>0.342746</td><td>0.003691</td><td>0.661776</td><td>-0.534667</td><td>-0.0548</td><td>0.078008</td><td>0.361662</td><td>-0.02802</td><td>-0.160454</td><td>0.556</td><td>-0.069459</td><td>0.1005</td><td>-0.371696</td><td>-0.058799</td><td>-0.293651</td><td>0.056933</td><td>0.044941</td></tr><tr><td>0.512733</td><td>-0.009125</td><td>-0.068617</td><td>-0.257224</td><td>-0.66582</td><td>-0.853504</td><td>-0.730318</td><td>0.035639</td><td>-0.371838</td><td>0.295272</td><td>0.130313</td><td>-0.079683</td><td>-0.39424</td><td>-0.236193</td><td>-0.000534</td><td>-0.406076</td><td>-0.191545</td><td>-0.669506</td><td>-0.655422</td><td>-0.283136</td><td>0.709888</td><td>0.692471</td><td>-0.748209</td><td>-0.023053</td><td>-0.489835</td><td>-0.258838</td><td>-0.315985</td><td>-0.112773</td><td>0.528021</td><td>0.444257</td><td>-0.088936</td><td>0.097289</td><td>-0.405853</td><td>0.483652</td><td>-0.132248</td><td>0.04311</td><td>-0.749276</td><td>&hellip;</td><td>0.151554</td><td>-0.015359</td><td>-0.284566</td><td>0.012349</td><td>0.067837</td><td>-0.103654</td><td>0.037746</td><td>-0.254004</td><td>-0.275986</td><td>0.568699</td><td>-0.204313</td><td>-0.114298</td><td>-0.6935</td><td>0.488111</td><td>-0.014586</td><td>-0.359548</td><td>-0.134022</td><td>-0.817925</td><td>-0.236982</td><td>0.044116</td><td>0.748351</td><td>0.010287</td><td>0.238083</td><td>-0.410919</td><td>-0.112298</td><td>0.482622</td><td>0.109206</td><td>0.126728</td><td>-0.015868</td><td>0.442874</td><td>-0.144709</td><td>0.14268</td><td>-0.089963</td><td>-0.35447</td><td>-0.234166</td><td>0.446621</td><td>-0.033155</td></tr></tbody></table></div>"
      ],
      "text/plain": [
       "shape: (18, 300)\n",
       "┌───────────┬───────────┬───────────┬───────────┬───┬───────────┬───────────┬───────────┬──────────┐\n",
       "│ column_0  ┆ column_1  ┆ column_2  ┆ column_3  ┆ … ┆ column_29 ┆ column_29 ┆ column_29 ┆ column_2 │\n",
       "│ ---       ┆ ---       ┆ ---       ┆ ---       ┆   ┆ 6         ┆ 7         ┆ 8         ┆ 99       │\n",
       "│ f64       ┆ f64       ┆ f64       ┆ f64       ┆   ┆ ---       ┆ ---       ┆ ---       ┆ ---      │\n",
       "│           ┆           ┆           ┆           ┆   ┆ f64       ┆ f64       ┆ f64       ┆ f64      │\n",
       "╞═══════════╪═══════════╪═══════════╪═══════════╪═══╪═══════════╪═══════════╪═══════════╪══════════╡\n",
       "│ 0.212836  ┆ -0.12756  ┆ -0.45251  ┆ -0.040241 ┆ … ┆ 0.042842  ┆ 0.072888  ┆ -0.051383 ┆ 0.027874 │\n",
       "│ 0.423871  ┆ 0.025214  ┆ 0.012068  ┆ -0.223127 ┆ … ┆ -0.333296 ┆ -0.013143 ┆ 0.089247  ┆ 0.146553 │\n",
       "│ 0.385859  ┆ 0.035165  ┆ 0.033237  ┆ -0.557369 ┆ … ┆ -0.665546 ┆ -0.239671 ┆ 0.18433   ┆ 0.093376 │\n",
       "│ 0.406118  ┆ 0.302412  ┆ 0.036468  ┆ -0.50005  ┆ … ┆ -0.437672 ┆ 0.221411  ┆ -0.216267 ┆ -0.10492 │\n",
       "│ -0.222472 ┆ -0.005717 ┆ 0.01755   ┆ -0.152431 ┆ … ┆ -0.392997 ┆ 0.362656  ┆ 0.057918  ┆ -0.10911 │\n",
       "│           ┆           ┆           ┆           ┆   ┆           ┆           ┆           ┆ 9        │\n",
       "│ …         ┆ …         ┆ …         ┆ …         ┆ … ┆ …         ┆ …         ┆ …         ┆ …        │\n",
       "│ 0.501696  ┆ -0.206928 ┆ -0.044032 ┆ -0.497886 ┆ … ┆ -0.269047 ┆ -0.518864 ┆ 0.247953  ┆ -0.07234 │\n",
       "│ 0.238176  ┆ 0.098733  ┆ 0.155377  ┆ -0.378564 ┆ … ┆ -0.370987 ┆ -0.463675 ┆ -0.094111 ┆ -0.15021 │\n",
       "│           ┆           ┆           ┆           ┆   ┆           ┆           ┆           ┆ 3        │\n",
       "│ 0.504733  ┆ 0.063902  ┆ -0.091682 ┆ -0.157345 ┆ … ┆ -0.764995 ┆ -0.257101 ┆ -0.011099 ┆ -0.21432 │\n",
       "│           ┆           ┆           ┆           ┆   ┆           ┆           ┆           ┆ 3        │\n",
       "│ 0.425883  ┆ 0.129437  ┆ -0.197528 ┆ -0.300082 ┆ … ┆ -0.058799 ┆ -0.293651 ┆ 0.056933  ┆ 0.044941 │\n",
       "│ 0.512733  ┆ -0.009125 ┆ -0.068617 ┆ -0.257224 ┆ … ┆ -0.35447  ┆ -0.234166 ┆ 0.446621  ┆ -0.03315 │\n",
       "│           ┆           ┆           ┆           ┆   ┆           ┆           ┆           ┆ 5        │\n",
       "└───────────┴───────────┴───────────┴───────────┴───┴───────────┴───────────┴───────────┴──────────┘"
      ]
     },
     "execution_count": 8,
     "metadata": {},
     "output_type": "execute_result"
    }
   ],
   "source": [
    "df1 = df1.map_rows(lambda row: (tuple(c2v(row[0]))))\n",
    "df1"
   ]
  },
  {
   "cell_type": "markdown",
   "metadata": {},
   "source": [
    "### Name each document from similar word from vector"
   ]
  },
  {
   "cell_type": "code",
   "execution_count": 9,
   "metadata": {},
   "outputs": [
    {
     "data": {
      "text/plain": [
       "[('ciudad', 0.8020497560501099),\n",
       " ('zona', 0.6590033769607544),\n",
       " ('colonia', 0.658691942691803),\n",
       " ('norte', 0.6529296040534973),\n",
       " ('centro', 0.6522804498672485),\n",
       " ('alrededor', 0.6347556114196777),\n",
       " ('ubicación', 0.6186294555664062),\n",
       " ('barrio', 0.610630989074707),\n",
       " ('oriente', 0.6105065941810608),\n",
       " ('inmediación', 0.6083475351333618)]"
      ]
     },
     "execution_count": 9,
     "metadata": {},
     "output_type": "execute_result"
    }
   ],
   "source": [
    "w2v.wv.most_similar(df1.to_numpy()[0])"
   ]
  },
  {
   "cell_type": "code",
   "execution_count": 10,
   "metadata": {},
   "outputs": [
    {
     "data": {
      "text/plain": [
       "[['ciudad',\n",
       "  'zona',\n",
       "  'colonia',\n",
       "  'norte',\n",
       "  'centro',\n",
       "  'alrededor',\n",
       "  'ubicación',\n",
       "  'barrio',\n",
       "  'oriente',\n",
       "  'inmediación'],\n",
       " ['negocio',\n",
       "  'trabajador',\n",
       "  'establecimiento',\n",
       "  'llegar',\n",
       "  'asimismo',\n",
       "  'momento',\n",
       "  'pobre',\n",
       "  'tener',\n",
       "  'tiempo',\n",
       "  'empleado'],\n",
       " ['producto',\n",
       "  'equipamiento',\n",
       "  'servicio',\n",
       "  'mantenimiento',\n",
       "  'adecuado',\n",
       "  'herramienta',\n",
       "  'material',\n",
       "  'necesario',\n",
       "  'mejora',\n",
       "  'necesidad'],\n",
       " ['herramienta',\n",
       "  'permitir',\n",
       "  'eléctrico',\n",
       "  'taladro',\n",
       "  'utilizar',\n",
       "  'accesorio',\n",
       "  'dispositivo',\n",
       "  'instrumento',\n",
       "  'máquina',\n",
       "  'equipamiento'],\n",
       " ['material',\n",
       "  'construcción',\n",
       "  'cemento',\n",
       "  'hormigón',\n",
       "  'estructura',\n",
       "  'concreto',\n",
       "  'existente',\n",
       "  'necesario',\n",
       "  'revestimiento',\n",
       "  'cantidad'],\n",
       " ['reparación',\n",
       "  'construcción',\n",
       "  'necesario',\n",
       "  'refacción',\n",
       "  'maquinaria',\n",
       "  'tornillo',\n",
       "  'cerradura',\n",
       "  'reparar',\n",
       "  'utillaje',\n",
       "  'mantenimiento'],\n",
       " ['acabado',\n",
       "  'pintura',\n",
       "  'ejemplo',\n",
       "  'objeto',\n",
       "  'particular',\n",
       "  'igualmente',\n",
       "  'producto',\n",
       "  'permitir',\n",
       "  'complementar',\n",
       "  'espacio'],\n",
       " ['asesoramiento',\n",
       "  'técnico',\n",
       "  'experto',\n",
       "  'capacitación',\n",
       "  'evaluación',\n",
       "  'recomendación',\n",
       "  'asesoría',\n",
       "  'especializado',\n",
       "  'adecuado',\n",
       "  'pertinente'],\n",
       " ['calidad',\n",
       "  'permitir',\n",
       "  'producto',\n",
       "  'garantizar',\n",
       "  'ofrecer',\n",
       "  'asegurar',\n",
       "  'proveedor',\n",
       "  'necesitar',\n",
       "  'cliente',\n",
       "  'obstante'],\n",
       " ['lunes',\n",
       "  'hora',\n",
       "  'sábado',\n",
       "  'horario',\n",
       "  'viernes',\n",
       "  'martes',\n",
       "  'miércoles',\n",
       "  'jueves',\n",
       "  'mañana',\n",
       "  'abierto'],\n",
       " ['obstante',\n",
       "  'deber',\n",
       "  'permitir',\n",
       "  'servicio',\n",
       "  'condición',\n",
       "  'necesario',\n",
       "  'poder',\n",
       "  'únicamente',\n",
       "  'adicionalmente',\n",
       "  'práctica'],\n",
       " ['producto',\n",
       "  'necesario',\n",
       "  'permitir',\n",
       "  'requerir',\n",
       "  'adecuado',\n",
       "  'empleado',\n",
       "  'necesitar',\n",
       "  'utilizar',\n",
       "  'apropiado',\n",
       "  'determinado'],\n",
       " ['compra',\n",
       "  'devolución',\n",
       "  'obstante',\n",
       "  'deber',\n",
       "  'adquisición',\n",
       "  'plazo',\n",
       "  'pago',\n",
       "  'necesario',\n",
       "  'garantía',\n",
       "  'exigir'],\n",
       " ['cliente',\n",
       "  'información',\n",
       "  'usuario',\n",
       "  'necesario',\n",
       "  'necesitar',\n",
       "  'permitir',\n",
       "  'requerir',\n",
       "  'proporcionar',\n",
       "  'confiable',\n",
       "  'adecuado'],\n",
       " ['precio',\n",
       "  'obstante',\n",
       "  'permitir',\n",
       "  'compra',\n",
       "  'momento',\n",
       "  'costo',\n",
       "  'deber',\n",
       "  'necesario',\n",
       "  'usuario',\n",
       "  'comprador'],\n",
       " ['contenido',\n",
       "  'propiedad',\n",
       "  'exclusivo',\n",
       "  'particular',\n",
       "  'ejemplo',\n",
       "  'existente',\n",
       "  'distinto',\n",
       "  'asimismo',\n",
       "  'aparte',\n",
       "  'igualmente'],\n",
       " ['cliente',\n",
       "  'comportamiento',\n",
       "  'necesitar',\n",
       "  'desear',\n",
       "  'permitir',\n",
       "  'entender',\n",
       "  'comportar',\n",
       "  'implicar',\n",
       "  'obviamente',\n",
       "  'preocupar'],\n",
       " ['privacidad',\n",
       "  'información',\n",
       "  'usuario',\n",
       "  'cliente',\n",
       "  'permitir',\n",
       "  'determinado',\n",
       "  'garantizar',\n",
       "  'específico',\n",
       "  'seguridad',\n",
       "  'particular']]"
      ]
     },
     "execution_count": 10,
     "metadata": {},
     "output_type": "execute_result"
    }
   ],
   "source": [
    "[[j[0] for j in w2v.wv.most_similar(i)] for i in df1.to_numpy()]"
   ]
  },
  {
   "cell_type": "markdown",
   "metadata": {},
   "source": [
    "Get top most similar only"
   ]
  },
  {
   "cell_type": "code",
   "execution_count": 11,
   "metadata": {},
   "outputs": [
    {
     "data": {
      "text/plain": [
       "['ciudad',\n",
       " 'negocio',\n",
       " 'producto',\n",
       " 'herramienta',\n",
       " 'material',\n",
       " 'reparación',\n",
       " 'acabado',\n",
       " 'asesoramiento',\n",
       " 'calidad',\n",
       " 'lunes',\n",
       " 'obstante',\n",
       " 'producto',\n",
       " 'compra',\n",
       " 'cliente',\n",
       " 'precio',\n",
       " 'contenido',\n",
       " 'cliente',\n",
       " 'privacidad']"
      ]
     },
     "execution_count": 11,
     "metadata": {},
     "output_type": "execute_result"
    }
   ],
   "source": [
    "categories = [[j[0] for j in w2v.wv.most_similar(i)][0] for i in df1.to_numpy()]\n",
    "categories"
   ]
  },
  {
   "cell_type": "markdown",
   "metadata": {},
   "source": [
    "Count unique in list for unique categories"
   ]
  },
  {
   "cell_type": "code",
   "execution_count": 12,
   "metadata": {},
   "outputs": [
    {
     "data": {
      "text/plain": [
       "16"
      ]
     },
     "execution_count": 12,
     "metadata": {},
     "output_type": "execute_result"
    }
   ],
   "source": [
    "len(set(categories))"
   ]
  },
  {
   "cell_type": "markdown",
   "metadata": {},
   "source": [
    "Get not-unique indexes from category names list"
   ]
  },
  {
   "cell_type": "code",
   "execution_count": 13,
   "metadata": {},
   "outputs": [
    {
     "data": {
      "text/plain": [
       "[[2, 11], [13, 16]]"
      ]
     },
     "execution_count": 13,
     "metadata": {},
     "output_type": "execute_result"
    }
   ],
   "source": [
    "[k for k in [[j for j in range(len(categories)) if i == categories[j]] for i in set(categories)] if len(k) > 1]"
   ]
  },
  {
   "cell_type": "markdown",
   "metadata": {},
   "source": [
    "WIP automated concatenation rows from the previous indexes."
   ]
  },
  {
   "cell_type": "markdown",
   "metadata": {},
   "source": [
    "### import \"edited\" data"
   ]
  },
  {
   "cell_type": "code",
   "execution_count": 14,
   "metadata": {},
   "outputs": [
    {
     "data": {
      "text/html": [
       "<div><style>\n",
       ".dataframe > thead > tr,\n",
       ".dataframe > tbody > tr {\n",
       "  text-align: right;\n",
       "  white-space: pre-wrap;\n",
       "}\n",
       "</style>\n",
       "<small>shape: (16, 1)</small><table border=\"1\" class=\"dataframe\"><thead><tr><th>column_1</th></tr><tr><td>str</td></tr></thead><tbody><tr><td>&quot;Ubicación: Fer…</td></tr><tr><td>&quot;Historia: Fund…</td></tr><tr><td>&quot;Productos y Se…</td></tr><tr><td>&quot;Herramientas M…</td></tr><tr><td>&quot;Materiales de …</td></tr><tr><td>&quot;Ferretería en …</td></tr><tr><td>&quot;Pinturas y Aca…</td></tr><tr><td>&quot;Asesoramiento …</td></tr><tr><td>&quot;Compromiso con…</td></tr><tr><td>&quot;Horario de Ate…</td></tr><tr><td>&quot;Aceptación de …</td></tr><tr><td>&quot;Política de De…</td></tr><tr><td>&quot;Responsabilida…</td></tr><tr><td>&quot;Política de Pr…</td></tr><tr><td>&quot;Derechos de Pr…</td></tr><tr><td>&quot;Privacidad y P…</td></tr></tbody></table></div>"
      ],
      "text/plain": [
       "shape: (16, 1)\n",
       "┌───────────────────────────────────┐\n",
       "│ column_1                          │\n",
       "│ ---                               │\n",
       "│ str                               │\n",
       "╞═══════════════════════════════════╡\n",
       "│ Ubicación: Ferretería \"Patito\" s… │\n",
       "│ Historia: Fundada en 1995 por el… │\n",
       "│ Productos y Servicios: En Ferret… │\n",
       "│ Herramientas Manuales y Eléctric… │\n",
       "│ Materiales de Construcción: Cont… │\n",
       "│ …                                 │\n",
       "│ Política de Devoluciones: Los cl… │\n",
       "│ Responsabilidad del Cliente: Los… │\n",
       "│ Política de Precios: Nos esforza… │\n",
       "│ Derechos de Propiedad Intelectua… │\n",
       "│ Privacidad y Protección de Datos… │\n",
       "└───────────────────────────────────┘"
      ]
     },
     "execution_count": 14,
     "metadata": {},
     "output_type": "execute_result"
    }
   ],
   "source": [
    "df2 = pl.read_csv(\"edited_data.csv\", has_header=False)\n",
    "df2"
   ]
  },
  {
   "cell_type": "markdown",
   "metadata": {},
   "source": [
    "clean"
   ]
  },
  {
   "cell_type": "code",
   "execution_count": 15,
   "metadata": {},
   "outputs": [
    {
     "data": {
      "text/html": [
       "<div><style>\n",
       ".dataframe > thead > tr,\n",
       ".dataframe > tbody > tr {\n",
       "  text-align: right;\n",
       "  white-space: pre-wrap;\n",
       "}\n",
       "</style>\n",
       "<small>shape: (16, 1)</small><table border=\"1\" class=\"dataframe\"><thead><tr><th>map</th></tr><tr><td>str</td></tr></thead><tbody><tr><td>&quot;ubicación ferr…</td></tr><tr><td>&quot;historia funda…</td></tr><tr><td>&quot;producto servi…</td></tr><tr><td>&quot;herramienta ma…</td></tr><tr><td>&quot;material const…</td></tr><tr><td>&quot;ferretería gen…</td></tr><tr><td>&quot;pintura acabad…</td></tr><tr><td>&quot;asesoramiento …</td></tr><tr><td>&quot;compromiso cal…</td></tr><tr><td>&quot;horario atenci…</td></tr><tr><td>&quot;aceptación tér…</td></tr><tr><td>&quot;política devol…</td></tr><tr><td>&quot;responsabilida…</td></tr><tr><td>&quot;política preci…</td></tr><tr><td>&quot;derecho propie…</td></tr><tr><td>&quot;privacidad pro…</td></tr></tbody></table></div>"
      ],
      "text/plain": [
       "shape: (16, 1)\n",
       "┌───────────────────────────────────┐\n",
       "│ map                               │\n",
       "│ ---                               │\n",
       "│ str                               │\n",
       "╞═══════════════════════════════════╡\n",
       "│ ubicación ferretería patito estr… │\n",
       "│ historia fundado emprendedor jua… │\n",
       "│ producto servicio ferretería pat… │\n",
       "│ herramienta manual eléctrico mar… │\n",
       "│ material construcción contar mat… │\n",
       "│ …                                 │\n",
       "│ política devolución cliente plaz… │\n",
       "│ responsabilidad cliente cliente … │\n",
       "│ política precio esforzar mantene… │\n",
       "│ derecho propiedad intelectual co… │\n",
       "│ privacidad protección dato ferre… │\n",
       "└───────────────────────────────────┘"
      ]
     },
     "execution_count": 15,
     "metadata": {},
     "output_type": "execute_result"
    }
   ],
   "source": [
    "df2 = df2.map_rows(lambda row: (cleaning(nlp(re.sub('[^A-Za-záéíóúüñ]+',' ',row[0]).lower()))))\n",
    "df2"
   ]
  },
  {
   "cell_type": "markdown",
   "metadata": {},
   "source": [
    "split and drop"
   ]
  },
  {
   "cell_type": "code",
   "execution_count": 16,
   "metadata": {},
   "outputs": [
    {
     "data": {
      "text/html": [
       "<div><style>\n",
       ".dataframe > thead > tr,\n",
       ".dataframe > tbody > tr {\n",
       "  text-align: right;\n",
       "  white-space: pre-wrap;\n",
       "}\n",
       "</style>\n",
       "<small>shape: (16, 1)</small><table border=\"1\" class=\"dataframe\"><thead><tr><th>split</th></tr><tr><td>list[str]</td></tr></thead><tbody><tr><td>[&quot;ubicación&quot;, &quot;ferretería&quot;, … &quot;méxico&quot;]</td></tr><tr><td>[&quot;historia&quot;, &quot;fundado&quot;, … &quot;ciudad&quot;]</td></tr><tr><td>[&quot;producto&quot;, &quot;servicio&quot;, … &quot;resultar&quot;]</td></tr><tr><td>[&quot;herramienta&quot;, &quot;manual&quot;, … &quot;proyecto&quot;]</td></tr><tr><td>[&quot;material&quot;, &quot;construcción&quot;, … &quot;construcción&quot;]</td></tr><tr><td>[&quot;ferretería&quot;, &quot;general&quot;, … &quot;reparación&quot;]</td></tr><tr><td>[&quot;pintura&quot;, &quot;acabado&quot;, … &quot;espacio&quot;]</td></tr><tr><td>[&quot;asesoramiento&quot;, &quot;profesional&quot;, … &quot;proyecto&quot;]</td></tr><tr><td>[&quot;compromiso&quot;, &quot;calidad&quot;, … &quot;expectativa&quot;]</td></tr><tr><td>[&quot;horario&quot;, &quot;atención&quot;, … &quot;hogar&quot;]</td></tr><tr><td>[&quot;aceptación&quot;, &quot;término&quot;, … &quot;servicio&quot;]</td></tr><tr><td>[&quot;política&quot;, &quot;devolución&quot;, … &quot;ferretería&quot;]</td></tr><tr><td>[&quot;responsabilidad&quot;, &quot;cliente&quot;, … &quot;disruptivo&quot;]</td></tr><tr><td>[&quot;política&quot;, &quot;precio&quot;, … &quot;compra&quot;]</td></tr><tr><td>[&quot;derecho&quot;, &quot;propiedad&quot;, … &quot;contenido&quot;]</td></tr><tr><td>[&quot;privacidad&quot;, &quot;protección&quot;, … &quot;consentimiento&quot;]</td></tr></tbody></table></div>"
      ],
      "text/plain": [
       "shape: (16, 1)\n",
       "┌───────────────────────────────────┐\n",
       "│ split                             │\n",
       "│ ---                               │\n",
       "│ list[str]                         │\n",
       "╞═══════════════════════════════════╡\n",
       "│ [\"ubicación\", \"ferretería\", … \"m… │\n",
       "│ [\"historia\", \"fundado\", … \"ciuda… │\n",
       "│ [\"producto\", \"servicio\", … \"resu… │\n",
       "│ [\"herramienta\", \"manual\", … \"pro… │\n",
       "│ [\"material\", \"construcción\", … \"… │\n",
       "│ …                                 │\n",
       "│ [\"política\", \"devolución\", … \"fe… │\n",
       "│ [\"responsabilidad\", \"cliente\", …… │\n",
       "│ [\"política\", \"precio\", … \"compra… │\n",
       "│ [\"derecho\", \"propiedad\", … \"cont… │\n",
       "│ [\"privacidad\", \"protección\", … \"… │\n",
       "└───────────────────────────────────┘"
      ]
     },
     "execution_count": 16,
     "metadata": {},
     "output_type": "execute_result"
    }
   ],
   "source": [
    "df2 = df2.with_columns(pl.col(\"map\").str.split(by=\" \").alias(\"split\"))\n",
    "df2 = df2.drop([\"map\"])\n",
    "df2"
   ]
  },
  {
   "cell_type": "code",
   "execution_count": 17,
   "metadata": {},
   "outputs": [
    {
     "name": "stdout",
     "output_type": "stream",
     "text": [
      "skipped\n",
      "skipped\n"
     ]
    },
    {
     "data": {
      "text/html": [
       "<div><style>\n",
       ".dataframe > thead > tr,\n",
       ".dataframe > tbody > tr {\n",
       "  text-align: right;\n",
       "  white-space: pre-wrap;\n",
       "}\n",
       "</style>\n",
       "<small>shape: (16, 300)</small><table border=\"1\" class=\"dataframe\"><thead><tr><th>column_0</th><th>column_1</th><th>column_2</th><th>column_3</th><th>column_4</th><th>column_5</th><th>column_6</th><th>column_7</th><th>column_8</th><th>column_9</th><th>column_10</th><th>column_11</th><th>column_12</th><th>column_13</th><th>column_14</th><th>column_15</th><th>column_16</th><th>column_17</th><th>column_18</th><th>column_19</th><th>column_20</th><th>column_21</th><th>column_22</th><th>column_23</th><th>column_24</th><th>column_25</th><th>column_26</th><th>column_27</th><th>column_28</th><th>column_29</th><th>column_30</th><th>column_31</th><th>column_32</th><th>column_33</th><th>column_34</th><th>column_35</th><th>column_36</th><th>&hellip;</th><th>column_263</th><th>column_264</th><th>column_265</th><th>column_266</th><th>column_267</th><th>column_268</th><th>column_269</th><th>column_270</th><th>column_271</th><th>column_272</th><th>column_273</th><th>column_274</th><th>column_275</th><th>column_276</th><th>column_277</th><th>column_278</th><th>column_279</th><th>column_280</th><th>column_281</th><th>column_282</th><th>column_283</th><th>column_284</th><th>column_285</th><th>column_286</th><th>column_287</th><th>column_288</th><th>column_289</th><th>column_290</th><th>column_291</th><th>column_292</th><th>column_293</th><th>column_294</th><th>column_295</th><th>column_296</th><th>column_297</th><th>column_298</th><th>column_299</th></tr><tr><td>f64</td><td>f64</td><td>f64</td><td>f64</td><td>f64</td><td>f64</td><td>f64</td><td>f64</td><td>f64</td><td>f64</td><td>f64</td><td>f64</td><td>f64</td><td>f64</td><td>f64</td><td>f64</td><td>f64</td><td>f64</td><td>f64</td><td>f64</td><td>f64</td><td>f64</td><td>f64</td><td>f64</td><td>f64</td><td>f64</td><td>f64</td><td>f64</td><td>f64</td><td>f64</td><td>f64</td><td>f64</td><td>f64</td><td>f64</td><td>f64</td><td>f64</td><td>f64</td><td>&hellip;</td><td>f64</td><td>f64</td><td>f64</td><td>f64</td><td>f64</td><td>f64</td><td>f64</td><td>f64</td><td>f64</td><td>f64</td><td>f64</td><td>f64</td><td>f64</td><td>f64</td><td>f64</td><td>f64</td><td>f64</td><td>f64</td><td>f64</td><td>f64</td><td>f64</td><td>f64</td><td>f64</td><td>f64</td><td>f64</td><td>f64</td><td>f64</td><td>f64</td><td>f64</td><td>f64</td><td>f64</td><td>f64</td><td>f64</td><td>f64</td><td>f64</td><td>f64</td><td>f64</td></tr></thead><tbody><tr><td>0.212836</td><td>-0.12756</td><td>-0.45251</td><td>-0.040241</td><td>-0.058753</td><td>-0.556849</td><td>-0.252583</td><td>-0.162145</td><td>-0.631864</td><td>0.413512</td><td>-0.16626</td><td>0.003574</td><td>-0.259343</td><td>-0.195746</td><td>0.168473</td><td>-0.052552</td><td>-0.326525</td><td>-0.196537</td><td>-0.17231</td><td>-0.101339</td><td>0.288966</td><td>0.522659</td><td>0.263483</td><td>-0.147315</td><td>-0.558546</td><td>0.036646</td><td>-0.703997</td><td>-0.393182</td><td>0.249967</td><td>-0.083028</td><td>-0.042383</td><td>1.023401</td><td>0.246617</td><td>-0.199525</td><td>0.171443</td><td>0.007163</td><td>-0.390876</td><td>&hellip;</td><td>-0.116024</td><td>0.053837</td><td>-0.215412</td><td>0.318292</td><td>0.058482</td><td>-0.030807</td><td>-0.179667</td><td>-0.098336</td><td>0.567621</td><td>0.296195</td><td>-0.085612</td><td>-0.073767</td><td>-0.089834</td><td>-0.205213</td><td>-0.611677</td><td>-0.227301</td><td>0.029142</td><td>0.291956</td><td>-0.066367</td><td>-0.002605</td><td>0.251722</td><td>0.465745</td><td>0.623218</td><td>-0.078883</td><td>0.259047</td><td>-0.190617</td><td>-0.762434</td><td>-0.094988</td><td>0.102185</td><td>-0.167386</td><td>-0.354981</td><td>-0.008689</td><td>-0.455456</td><td>0.042842</td><td>0.072888</td><td>-0.051383</td><td>0.027874</td></tr><tr><td>0.423871</td><td>0.025214</td><td>0.012068</td><td>-0.223127</td><td>-0.202673</td><td>-0.393712</td><td>-0.374561</td><td>0.259974</td><td>-0.375474</td><td>0.06919</td><td>-0.166603</td><td>-0.134075</td><td>-0.216289</td><td>-0.189332</td><td>-0.060694</td><td>-0.030486</td><td>0.194823</td><td>-0.116378</td><td>-0.23559</td><td>-0.259037</td><td>0.487899</td><td>0.427689</td><td>-0.060725</td><td>-0.160337</td><td>-0.401157</td><td>0.066193</td><td>-0.329237</td><td>-0.123573</td><td>0.203745</td><td>0.069274</td><td>-0.137278</td><td>0.664172</td><td>0.19144</td><td>0.035487</td><td>0.096587</td><td>0.262722</td><td>-0.819545</td><td>&hellip;</td><td>0.267579</td><td>0.319991</td><td>-0.283283</td><td>0.020059</td><td>-0.031595</td><td>0.381906</td><td>-0.10924</td><td>-0.185706</td><td>0.140849</td><td>0.76805</td><td>0.039422</td><td>-0.261649</td><td>-0.275816</td><td>-0.011501</td><td>-0.567118</td><td>-0.219702</td><td>0.128224</td><td>-0.286524</td><td>-0.320208</td><td>-0.145584</td><td>0.290893</td><td>0.140684</td><td>0.475552</td><td>-0.257042</td><td>-0.119533</td><td>-0.028789</td><td>-0.290617</td><td>0.111265</td><td>-0.381478</td><td>0.116171</td><td>-0.124392</td><td>0.09486</td><td>-0.237941</td><td>-0.333296</td><td>-0.013143</td><td>0.089247</td><td>0.146553</td></tr><tr><td>0.348836</td><td>0.035179</td><td>-0.045416</td><td>-0.575901</td><td>-0.594321</td><td>-0.454019</td><td>-0.839649</td><td>0.231388</td><td>-0.653599</td><td>0.377517</td><td>0.057821</td><td>-0.193992</td><td>-0.450284</td><td>0.024695</td><td>-0.286494</td><td>-0.041422</td><td>-0.350436</td><td>-0.452235</td><td>-0.02499</td><td>-0.396185</td><td>0.67974</td><td>0.504568</td><td>-0.70397</td><td>-0.675819</td><td>-0.242816</td><td>-0.068937</td><td>-0.318696</td><td>0.171014</td><td>0.257769</td><td>0.311708</td><td>-0.55574</td><td>0.413056</td><td>0.074943</td><td>0.202789</td><td>0.2601</td><td>0.07812</td><td>-1.044546</td><td>&hellip;</td><td>0.477848</td><td>0.491257</td><td>-0.264699</td><td>-0.211598</td><td>-0.494662</td><td>0.304034</td><td>0.33598</td><td>-0.147852</td><td>-0.220011</td><td>0.565224</td><td>-0.083292</td><td>0.01169</td><td>-0.838337</td><td>0.06128</td><td>-0.422726</td><td>-0.29855</td><td>-0.215033</td><td>-0.786702</td><td>-0.289516</td><td>0.173903</td><td>0.794086</td><td>-0.067954</td><td>0.442392</td><td>-0.148371</td><td>-0.174001</td><td>0.416275</td><td>0.113394</td><td>-0.065195</td><td>-0.169659</td><td>0.20363</td><td>0.207764</td><td>0.122176</td><td>-0.473829</td><td>-0.636293</td><td>-0.257456</td><td>0.11705</td><td>-0.01146</td></tr><tr><td>0.406118</td><td>0.302412</td><td>0.036468</td><td>-0.50005</td><td>-0.131052</td><td>0.002493</td><td>-0.054389</td><td>0.72176</td><td>-0.524406</td><td>0.606892</td><td>0.128333</td><td>-0.136146</td><td>-0.278787</td><td>0.468067</td><td>-0.310626</td><td>0.253619</td><td>-0.132123</td><td>-0.324798</td><td>-0.075846</td><td>-0.545838</td><td>0.582537</td><td>0.21807</td><td>-0.396565</td><td>-0.138196</td><td>-0.415168</td><td>-0.063165</td><td>-0.273881</td><td>0.257613</td><td>0.096426</td><td>0.149001</td><td>-0.198695</td><td>0.069611</td><td>0.242321</td><td>-0.137488</td><td>0.053384</td><td>-0.184186</td><td>-0.629436</td><td>&hellip;</td><td>0.379404</td><td>0.059307</td><td>-0.275136</td><td>-0.114843</td><td>-0.393695</td><td>0.361433</td><td>0.257503</td><td>-0.198394</td><td>-0.191552</td><td>0.34365</td><td>-0.197258</td><td>-0.053532</td><td>-0.647032</td><td>0.17516</td><td>-0.095757</td><td>-0.259961</td><td>0.152357</td><td>-0.237122</td><td>-0.124926</td><td>0.305039</td><td>0.662504</td><td>-0.040117</td><td>0.388982</td><td>0.139257</td><td>-0.198855</td><td>0.37803</td><td>-0.324647</td><td>-0.206529</td><td>-0.521431</td><td>0.201104</td><td>0.012297</td><td>0.27739</td><td>-0.32314</td><td>-0.437672</td><td>0.221411</td><td>-0.216267</td><td>-0.10492</td></tr><tr><td>-0.222472</td><td>-0.005717</td><td>0.01755</td><td>-0.152431</td><td>0.082138</td><td>-0.45164</td><td>-0.665867</td><td>0.165432</td><td>-0.534628</td><td>0.498674</td><td>0.236038</td><td>0.094743</td><td>-0.362782</td><td>0.106141</td><td>-0.252238</td><td>-0.034119</td><td>-0.275458</td><td>-0.599559</td><td>-0.095541</td><td>-0.391178</td><td>0.712369</td><td>0.563902</td><td>-0.332539</td><td>-0.381367</td><td>-1.092756</td><td>-0.329965</td><td>-0.449016</td><td>-0.025966</td><td>-0.097124</td><td>0.115147</td><td>-0.745745</td><td>0.39677</td><td>0.390946</td><td>-0.203624</td><td>0.530506</td><td>0.317422</td><td>-1.065472</td><td>&hellip;</td><td>0.479295</td><td>0.197936</td><td>-0.287452</td><td>-0.013139</td><td>-0.389713</td><td>0.430592</td><td>0.335071</td><td>-0.380843</td><td>0.295854</td><td>0.423726</td><td>-0.225374</td><td>-0.008997</td><td>-0.849865</td><td>0.346232</td><td>-0.605132</td><td>0.107615</td><td>-0.361664</td><td>-0.381799</td><td>-0.208291</td><td>0.080691</td><td>0.642929</td><td>-0.099032</td><td>0.289986</td><td>-0.093268</td><td>-0.340186</td><td>0.355064</td><td>0.017071</td><td>-0.071143</td><td>-0.547553</td><td>0.31032</td><td>0.310858</td><td>0.056379</td><td>-0.703524</td><td>-0.392997</td><td>0.362656</td><td>0.057918</td><td>-0.109119</td></tr><tr><td>-0.175948</td><td>0.251044</td><td>0.57868</td><td>-0.18834</td><td>-0.134889</td><td>-0.674244</td><td>-0.575561</td><td>0.596989</td><td>-0.457235</td><td>0.327338</td><td>-0.155796</td><td>-0.347386</td><td>-0.030644</td><td>0.294292</td><td>-0.489563</td><td>0.245185</td><td>-0.291255</td><td>-0.444115</td><td>-0.018272</td><td>-0.428581</td><td>0.361373</td><td>0.204568</td><td>-0.167897</td><td>-0.371942</td><td>-0.465282</td><td>-0.053389</td><td>-0.552517</td><td>0.244529</td><td>0.130768</td><td>0.177434</td><td>-0.778337</td><td>0.366748</td><td>0.278908</td><td>-0.230686</td><td>0.251298</td><td>0.522265</td><td>-0.693394</td><td>&hellip;</td><td>0.422927</td><td>0.448021</td><td>-0.464064</td><td>-0.356252</td><td>-0.192774</td><td>0.453984</td><td>0.569944</td><td>-0.287805</td><td>-0.046933</td><td>0.214438</td><td>-0.467071</td><td>-0.366539</td><td>-0.498214</td><td>-0.211967</td><td>-0.563618</td><td>0.142657</td><td>0.076739</td><td>-0.506741</td><td>-0.293737</td><td>0.22705</td><td>0.485774</td><td>0.017933</td><td>0.501325</td><td>-0.172824</td><td>0.022931</td><td>0.570613</td><td>-0.155529</td><td>-0.140879</td><td>-0.513497</td><td>0.158303</td><td>-0.383541</td><td>0.091375</td><td>-0.15397</td><td>-0.578252</td><td>-0.189774</td><td>0.058405</td><td>0.032852</td></tr><tr><td>0.178135</td><td>0.022982</td><td>-0.213848</td><td>-0.133932</td><td>-0.852305</td><td>-0.104335</td><td>-0.79042</td><td>-0.073752</td><td>-0.671372</td><td>0.704523</td><td>0.182869</td><td>0.044848</td><td>-0.675904</td><td>0.246938</td><td>-0.094934</td><td>-0.008603</td><td>-0.457433</td><td>-0.445713</td><td>-0.627258</td><td>-0.3387</td><td>0.520883</td><td>0.579376</td><td>-0.401504</td><td>-0.198822</td><td>-0.288183</td><td>0.074724</td><td>-0.552751</td><td>0.093068</td><td>-0.066773</td><td>0.287742</td><td>-0.416837</td><td>0.224975</td><td>0.255587</td><td>0.045755</td><td>0.200477</td><td>0.336002</td><td>-0.642228</td><td>&hellip;</td><td>0.352373</td><td>0.339299</td><td>-0.560981</td><td>-0.674634</td><td>-0.310045</td><td>0.19487</td><td>0.309852</td><td>-0.43044</td><td>0.129791</td><td>-0.055731</td><td>-0.274468</td><td>-0.363785</td><td>-0.830623</td><td>-0.102053</td><td>-0.580149</td><td>-0.296471</td><td>-0.080918</td><td>-0.57889</td><td>-0.538502</td><td>-0.042045</td><td>0.373307</td><td>-0.347435</td><td>0.662217</td><td>0.044096</td><td>0.038719</td><td>0.321522</td><td>-0.109339</td><td>-0.389375</td><td>-0.469735</td><td>0.111092</td><td>0.039666</td><td>0.227299</td><td>-0.457352</td><td>-0.4216</td><td>-0.079483</td><td>-0.201947</td><td>0.242044</td></tr><tr><td>0.599185</td><td>0.025005</td><td>0.356816</td><td>-0.978445</td><td>-0.614492</td><td>-0.609616</td><td>-0.604118</td><td>0.605126</td><td>-0.815449</td><td>0.662975</td><td>-0.076576</td><td>0.013116</td><td>-0.258014</td><td>-0.021262</td><td>-0.556723</td><td>0.222125</td><td>-0.398456</td><td>-0.281881</td><td>-0.231095</td><td>-0.2412</td><td>0.892776</td><td>0.855575</td><td>-0.629748</td><td>-0.613585</td><td>-0.21441</td><td>-0.448102</td><td>0.011035</td><td>-0.124304</td><td>0.442128</td><td>0.012933</td><td>-0.339237</td><td>0.132372</td><td>-0.17417</td><td>0.627024</td><td>0.054415</td><td>-0.438037</td><td>-0.620077</td><td>&hellip;</td><td>0.257782</td><td>0.306392</td><td>-0.281901</td><td>-0.171799</td><td>-0.144764</td><td>0.13587</td><td>0.487954</td><td>0.373235</td><td>0.056123</td><td>0.543401</td><td>-0.376073</td><td>0.424472</td><td>-0.599846</td><td>-0.005143</td><td>-0.274084</td><td>-0.557398</td><td>-0.475633</td><td>-0.241881</td><td>-0.11527</td><td>0.134698</td><td>0.305313</td><td>-0.025863</td><td>0.545038</td><td>-0.462512</td><td>-0.004291</td><td>0.423122</td><td>-0.359964</td><td>-0.287656</td><td>-0.107858</td><td>-0.265118</td><td>-0.084689</td><td>0.029696</td><td>-0.032281</td><td>-0.457986</td><td>-0.23115</td><td>0.613272</td><td>0.015541</td></tr><tr><td>0.236955</td><td>0.260596</td><td>0.040948</td><td>-0.410093</td><td>-0.455945</td><td>-0.404472</td><td>-0.930851</td><td>0.227978</td><td>-0.649143</td><td>0.368169</td><td>-0.080791</td><td>0.121134</td><td>-0.302288</td><td>-0.250972</td><td>-0.10699</td><td>-0.127647</td><td>-0.374245</td><td>-0.393302</td><td>-0.075611</td><td>-0.194209</td><td>0.815483</td><td>0.415962</td><td>-0.537307</td><td>-0.121029</td><td>-0.408175</td><td>-0.314397</td><td>-0.017073</td><td>-0.124826</td><td>0.399553</td><td>-0.055004</td><td>-0.494988</td><td>0.658587</td><td>-0.188438</td><td>0.664433</td><td>0.30551</td><td>-0.005952</td><td>-1.108427</td><td>&hellip;</td><td>0.372246</td><td>0.528815</td><td>-0.388967</td><td>-0.200894</td><td>-0.200967</td><td>0.362474</td><td>0.061914</td><td>-0.283254</td><td>-0.0909</td><td>0.887724</td><td>0.196602</td><td>0.154666</td><td>-0.512238</td><td>0.026876</td><td>-0.140718</td><td>-0.105519</td><td>-0.424078</td><td>-0.525434</td><td>-0.437513</td><td>-0.095445</td><td>0.798837</td><td>-0.19612</td><td>0.437806</td><td>-0.171648</td><td>-0.03646</td><td>0.203062</td><td>0.192346</td><td>0.034439</td><td>-0.083275</td><td>0.113247</td><td>-0.162199</td><td>-0.222194</td><td>-0.356362</td><td>-0.290594</td><td>-0.165772</td><td>0.217507</td><td>0.070869</td></tr><tr><td>-0.32656</td><td>0.241863</td><td>-0.010343</td><td>-0.071194</td><td>-0.114975</td><td>-0.455396</td><td>-0.167113</td><td>-0.05485</td><td>-0.779437</td><td>-0.039307</td><td>0.181978</td><td>-0.217534</td><td>0.256694</td><td>0.301415</td><td>0.105846</td><td>-0.276178</td><td>0.230826</td><td>-0.159156</td><td>-0.141713</td><td>-0.120152</td><td>0.33321</td><td>0.715146</td><td>-0.028786</td><td>-0.30931</td><td>-0.811367</td><td>0.310113</td><td>-0.166017</td><td>0.015034</td><td>0.602633</td><td>-0.40989</td><td>-0.073203</td><td>0.629144</td><td>-0.005542</td><td>0.343271</td><td>-0.250643</td><td>0.042482</td><td>-0.521132</td><td>&hellip;</td><td>0.272225</td><td>0.162943</td><td>0.110473</td><td>0.100124</td><td>0.276004</td><td>-0.10689</td><td>0.312849</td><td>0.103457</td><td>0.050042</td><td>0.12044</td><td>-0.148665</td><td>-0.104692</td><td>-0.149209</td><td>-0.05543</td><td>-0.352111</td><td>0.021126</td><td>-0.226647</td><td>0.065913</td><td>0.018696</td><td>-0.13437</td><td>0.339083</td><td>0.260341</td><td>0.185274</td><td>-0.263954</td><td>-0.266613</td><td>-0.25394</td><td>-0.158179</td><td>0.130954</td><td>-0.379301</td><td>-0.009433</td><td>0.06357</td><td>0.629039</td><td>-0.254832</td><td>-0.057408</td><td>-0.091928</td><td>0.18714</td><td>-0.01406</td></tr><tr><td>0.342804</td><td>0.172119</td><td>0.383844</td><td>-0.214458</td><td>-0.180002</td><td>-0.484703</td><td>-0.945985</td><td>0.1498</td><td>-0.875093</td><td>0.312186</td><td>-0.081279</td><td>-0.442958</td><td>-0.509188</td><td>-0.197269</td><td>-0.198714</td><td>0.049643</td><td>-0.022616</td><td>-0.312995</td><td>0.089869</td><td>-0.333146</td><td>0.498095</td><td>0.367714</td><td>-0.517484</td><td>-0.793526</td><td>-0.427808</td><td>0.075014</td><td>-0.265757</td><td>0.170866</td><td>0.107178</td><td>0.278439</td><td>-0.238821</td><td>0.654323</td><td>-0.247448</td><td>0.696254</td><td>0.341088</td><td>-0.106596</td><td>-0.936312</td><td>&hellip;</td><td>0.198252</td><td>0.370949</td><td>-0.604713</td><td>0.064241</td><td>-0.09955</td><td>0.169285</td><td>0.287757</td><td>-0.174844</td><td>0.045066</td><td>0.688309</td><td>0.072694</td><td>0.383874</td><td>-0.373835</td><td>-0.11499</td><td>-0.408064</td><td>-0.303389</td><td>-0.132779</td><td>-0.440894</td><td>-0.371043</td><td>0.161939</td><td>0.684683</td><td>-0.077799</td><td>0.52705</td><td>-0.131563</td><td>0.140447</td><td>0.30972</td><td>-0.015488</td><td>-0.106818</td><td>-0.219386</td><td>0.458537</td><td>0.188013</td><td>0.16973</td><td>-0.233839</td><td>-0.408858</td><td>-0.063703</td><td>0.108009</td><td>-0.273945</td></tr><tr><td>0.38023</td><td>-0.074232</td><td>0.036933</td><td>-0.414531</td><td>-0.324693</td><td>-0.912228</td><td>-1.069525</td><td>0.153589</td><td>-0.952671</td><td>0.339054</td><td>-0.242849</td><td>-0.220657</td><td>-0.268661</td><td>-0.137379</td><td>0.095942</td><td>-0.090416</td><td>-0.332719</td><td>-0.053601</td><td>-0.083145</td><td>-0.364402</td><td>0.516991</td><td>0.3994</td><td>-0.239305</td><td>-0.455999</td><td>-0.484194</td><td>-0.023231</td><td>0.00317</td><td>0.068351</td><td>0.223687</td><td>0.53788</td><td>-0.059615</td><td>0.83722</td><td>-0.461584</td><td>0.684694</td><td>0.26297</td><td>0.069386</td><td>-0.998989</td><td>&hellip;</td><td>0.184134</td><td>0.416128</td><td>-0.282197</td><td>0.255899</td><td>-0.363084</td><td>0.1529</td><td>0.2155</td><td>-0.386604</td><td>0.003356</td><td>0.466871</td><td>-0.179792</td><td>0.511152</td><td>-0.482573</td><td>0.263098</td><td>-0.063347</td><td>-0.146507</td><td>-0.534945</td><td>-0.883592</td><td>-0.677841</td><td>0.016644</td><td>0.581779</td><td>-0.052557</td><td>0.515022</td><td>-0.32667</td><td>-0.103029</td><td>0.64861</td><td>-0.188261</td><td>-0.028544</td><td>-0.43857</td><td>0.183234</td><td>-0.257787</td><td>-0.027396</td><td>-0.476382</td><td>-0.459419</td><td>-0.381486</td><td>0.267796</td><td>-0.295692</td></tr><tr><td>0.464714</td><td>-0.042848</td><td>-0.118908</td><td>-0.401396</td><td>-0.707469</td><td>-0.664312</td><td>-0.861881</td><td>0.236516</td><td>-0.468031</td><td>0.448887</td><td>-0.246972</td><td>-0.111574</td><td>-0.205154</td><td>-0.196907</td><td>-0.211595</td><td>-0.227955</td><td>-0.389567</td><td>-0.414186</td><td>-0.304301</td><td>-0.30674</td><td>0.940542</td><td>0.326138</td><td>-0.696952</td><td>-0.015971</td><td>-0.41897</td><td>-0.087533</td><td>-0.171455</td><td>0.022365</td><td>0.125498</td><td>0.11761</td><td>-0.348426</td><td>0.291291</td><td>-0.45051</td><td>0.473182</td><td>-0.169606</td><td>-0.058453</td><td>-1.091943</td><td>&hellip;</td><td>0.21312</td><td>0.315437</td><td>-0.288488</td><td>-0.104457</td><td>-0.012442</td><td>0.153411</td><td>0.050943</td><td>-0.340503</td><td>-0.216455</td><td>0.58501</td><td>-0.189107</td><td>0.11047</td><td>-0.405174</td><td>0.386007</td><td>-0.073328</td><td>-0.141001</td><td>-0.187709</td><td>-0.834856</td><td>-0.207674</td><td>0.079369</td><td>0.443219</td><td>0.01727</td><td>0.560717</td><td>-0.450184</td><td>-0.205859</td><td>0.305355</td><td>0.274755</td><td>-0.018001</td><td>-0.124938</td><td>0.342248</td><td>-0.199322</td><td>0.257943</td><td>-0.300622</td><td>-0.166487</td><td>-0.409004</td><td>0.154773</td><td>-0.01513</td></tr><tr><td>0.238176</td><td>0.098733</td><td>0.155377</td><td>-0.378564</td><td>-0.535192</td><td>-0.284112</td><td>-0.836188</td><td>0.27849</td><td>-1.015422</td><td>0.304503</td><td>-0.185611</td><td>-0.146029</td><td>-0.480718</td><td>-0.356731</td><td>-0.187549</td><td>-0.362255</td><td>0.013857</td><td>-0.362899</td><td>-0.167188</td><td>-0.360409</td><td>0.649775</td><td>0.220163</td><td>-0.421346</td><td>-0.238876</td><td>-0.175761</td><td>0.028167</td><td>-0.055998</td><td>0.017374</td><td>0.167362</td><td>0.242115</td><td>-0.04726</td><td>0.507564</td><td>-0.274969</td><td>0.595955</td><td>0.141319</td><td>0.122016</td><td>-1.037266</td><td>&hellip;</td><td>0.018868</td><td>0.249905</td><td>-0.308383</td><td>-0.034582</td><td>-0.023204</td><td>0.065126</td><td>0.075927</td><td>-0.19563</td><td>-0.016202</td><td>0.594465</td><td>-0.124448</td><td>0.195815</td><td>-0.343098</td><td>0.135292</td><td>-0.15541</td><td>-0.083381</td><td>-0.075242</td><td>-0.505353</td><td>-0.520921</td><td>0.281718</td><td>0.804426</td><td>0.077584</td><td>0.309178</td><td>-0.288305</td><td>-0.28612</td><td>0.258266</td><td>-0.043075</td><td>0.08838</td><td>0.051658</td><td>0.147743</td><td>-0.382626</td><td>0.140726</td><td>-0.516466</td><td>-0.370987</td><td>-0.463675</td><td>-0.094111</td><td>-0.150213</td></tr><tr><td>0.504733</td><td>0.063902</td><td>-0.091682</td><td>-0.157345</td><td>-0.58599</td><td>-0.25288</td><td>-0.937332</td><td>0.041928</td><td>-0.551492</td><td>0.308411</td><td>0.247153</td><td>-0.010745</td><td>-0.603456</td><td>0.049821</td><td>-0.243304</td><td>-0.10782</td><td>0.030607</td><td>-0.272607</td><td>-0.752102</td><td>-0.347609</td><td>0.123978</td><td>0.52077</td><td>-0.270355</td><td>-0.217229</td><td>-0.450815</td><td>0.101238</td><td>-0.301078</td><td>0.114194</td><td>0.146811</td><td>0.162705</td><td>0.06362</td><td>0.111508</td><td>0.046634</td><td>0.260508</td><td>-0.02734</td><td>0.092802</td><td>-0.545248</td><td>&hellip;</td><td>-0.019471</td><td>0.108545</td><td>-0.095067</td><td>0.085633</td><td>-0.151883</td><td>-0.097678</td><td>0.268467</td><td>-0.512294</td><td>0.10108</td><td>0.365246</td><td>-0.178887</td><td>-0.153018</td><td>-0.383596</td><td>0.315207</td><td>-0.374995</td><td>-0.162817</td><td>-0.101771</td><td>-0.699696</td><td>-0.556451</td><td>0.00652</td><td>1.028433</td><td>0.220499</td><td>0.471696</td><td>-0.168174</td><td>-0.158975</td><td>-0.161445</td><td>-0.308439</td><td>-0.329765</td><td>-0.280428</td><td>0.443936</td><td>-0.178861</td><td>-0.137852</td><td>-0.386099</td><td>-0.764995</td><td>-0.257101</td><td>-0.011099</td><td>-0.214323</td></tr><tr><td>0.512733</td><td>-0.009125</td><td>-0.068617</td><td>-0.257224</td><td>-0.66582</td><td>-0.853504</td><td>-0.730318</td><td>0.035639</td><td>-0.371838</td><td>0.295272</td><td>0.130313</td><td>-0.079683</td><td>-0.39424</td><td>-0.236193</td><td>-0.000534</td><td>-0.406076</td><td>-0.191545</td><td>-0.669506</td><td>-0.655422</td><td>-0.283136</td><td>0.709888</td><td>0.692471</td><td>-0.748209</td><td>-0.023053</td><td>-0.489835</td><td>-0.258838</td><td>-0.315985</td><td>-0.112773</td><td>0.528021</td><td>0.444257</td><td>-0.088936</td><td>0.097289</td><td>-0.405853</td><td>0.483652</td><td>-0.132248</td><td>0.04311</td><td>-0.749276</td><td>&hellip;</td><td>0.151554</td><td>-0.015359</td><td>-0.284566</td><td>0.012349</td><td>0.067837</td><td>-0.103654</td><td>0.037746</td><td>-0.254004</td><td>-0.275986</td><td>0.568699</td><td>-0.204313</td><td>-0.114298</td><td>-0.6935</td><td>0.488111</td><td>-0.014586</td><td>-0.359548</td><td>-0.134022</td><td>-0.817925</td><td>-0.236982</td><td>0.044116</td><td>0.748351</td><td>0.010287</td><td>0.238083</td><td>-0.410919</td><td>-0.112298</td><td>0.482622</td><td>0.109206</td><td>0.126728</td><td>-0.015868</td><td>0.442874</td><td>-0.144709</td><td>0.14268</td><td>-0.089963</td><td>-0.35447</td><td>-0.234166</td><td>0.446621</td><td>-0.033155</td></tr></tbody></table></div>"
      ],
      "text/plain": [
       "shape: (16, 300)\n",
       "┌───────────┬───────────┬───────────┬───────────┬───┬───────────┬───────────┬───────────┬──────────┐\n",
       "│ column_0  ┆ column_1  ┆ column_2  ┆ column_3  ┆ … ┆ column_29 ┆ column_29 ┆ column_29 ┆ column_2 │\n",
       "│ ---       ┆ ---       ┆ ---       ┆ ---       ┆   ┆ 6         ┆ 7         ┆ 8         ┆ 99       │\n",
       "│ f64       ┆ f64       ┆ f64       ┆ f64       ┆   ┆ ---       ┆ ---       ┆ ---       ┆ ---      │\n",
       "│           ┆           ┆           ┆           ┆   ┆ f64       ┆ f64       ┆ f64       ┆ f64      │\n",
       "╞═══════════╪═══════════╪═══════════╪═══════════╪═══╪═══════════╪═══════════╪═══════════╪══════════╡\n",
       "│ 0.212836  ┆ -0.12756  ┆ -0.45251  ┆ -0.040241 ┆ … ┆ 0.042842  ┆ 0.072888  ┆ -0.051383 ┆ 0.027874 │\n",
       "│ 0.423871  ┆ 0.025214  ┆ 0.012068  ┆ -0.223127 ┆ … ┆ -0.333296 ┆ -0.013143 ┆ 0.089247  ┆ 0.146553 │\n",
       "│ 0.348836  ┆ 0.035179  ┆ -0.045416 ┆ -0.575901 ┆ … ┆ -0.636293 ┆ -0.257456 ┆ 0.11705   ┆ -0.01146 │\n",
       "│ 0.406118  ┆ 0.302412  ┆ 0.036468  ┆ -0.50005  ┆ … ┆ -0.437672 ┆ 0.221411  ┆ -0.216267 ┆ -0.10492 │\n",
       "│ -0.222472 ┆ -0.005717 ┆ 0.01755   ┆ -0.152431 ┆ … ┆ -0.392997 ┆ 0.362656  ┆ 0.057918  ┆ -0.10911 │\n",
       "│           ┆           ┆           ┆           ┆   ┆           ┆           ┆           ┆ 9        │\n",
       "│ …         ┆ …         ┆ …         ┆ …         ┆ … ┆ …         ┆ …         ┆ …         ┆ …        │\n",
       "│ 0.38023   ┆ -0.074232 ┆ 0.036933  ┆ -0.414531 ┆ … ┆ -0.459419 ┆ -0.381486 ┆ 0.267796  ┆ -0.29569 │\n",
       "│           ┆           ┆           ┆           ┆   ┆           ┆           ┆           ┆ 2        │\n",
       "│ 0.464714  ┆ -0.042848 ┆ -0.118908 ┆ -0.401396 ┆ … ┆ -0.166487 ┆ -0.409004 ┆ 0.154773  ┆ -0.01513 │\n",
       "│ 0.238176  ┆ 0.098733  ┆ 0.155377  ┆ -0.378564 ┆ … ┆ -0.370987 ┆ -0.463675 ┆ -0.094111 ┆ -0.15021 │\n",
       "│           ┆           ┆           ┆           ┆   ┆           ┆           ┆           ┆ 3        │\n",
       "│ 0.504733  ┆ 0.063902  ┆ -0.091682 ┆ -0.157345 ┆ … ┆ -0.764995 ┆ -0.257101 ┆ -0.011099 ┆ -0.21432 │\n",
       "│           ┆           ┆           ┆           ┆   ┆           ┆           ┆           ┆ 3        │\n",
       "│ 0.512733  ┆ -0.009125 ┆ -0.068617 ┆ -0.257224 ┆ … ┆ -0.35447  ┆ -0.234166 ┆ 0.446621  ┆ -0.03315 │\n",
       "│           ┆           ┆           ┆           ┆   ┆           ┆           ┆           ┆ 5        │\n",
       "└───────────┴───────────┴───────────┴───────────┴───┴───────────┴───────────┴───────────┴──────────┘"
      ]
     },
     "execution_count": 17,
     "metadata": {},
     "output_type": "execute_result"
    }
   ],
   "source": [
    "df2 = df2.map_rows(lambda row: (tuple(c2v(row[0]))))\n",
    "df2"
   ]
  },
  {
   "cell_type": "code",
   "execution_count": 18,
   "metadata": {},
   "outputs": [
    {
     "data": {
      "text/plain": [
       "['ciudad',\n",
       " 'negocio',\n",
       " 'producto',\n",
       " 'herramienta',\n",
       " 'material',\n",
       " 'reparación',\n",
       " 'acabado',\n",
       " 'asesoramiento',\n",
       " 'calidad',\n",
       " 'lunes',\n",
       " 'obstante',\n",
       " 'compra',\n",
       " 'cliente',\n",
       " 'precio',\n",
       " 'contenido',\n",
       " 'privacidad']"
      ]
     },
     "execution_count": 18,
     "metadata": {},
     "output_type": "execute_result"
    }
   ],
   "source": [
    "cat2 = [[j[0] for j in w2v.wv.most_similar(i)][0] for i in df2.to_numpy()]\n",
    "cat2"
   ]
  },
  {
   "cell_type": "code",
   "execution_count": 19,
   "metadata": {},
   "outputs": [
    {
     "data": {
      "text/plain": [
       "16"
      ]
     },
     "execution_count": 19,
     "metadata": {},
     "output_type": "execute_result"
    }
   ],
   "source": [
    "len(set(cat2))"
   ]
  },
  {
   "cell_type": "code",
   "execution_count": null,
   "metadata": {},
   "outputs": [],
   "source": [
    "df2.write_csv(\"edited_data_vectors.csv\")"
   ]
  }
 ],
 "metadata": {
  "kernelspec": {
   "display_name": "Python 3",
   "language": "python",
   "name": "python3"
  },
  "language_info": {
   "codemirror_mode": {
    "name": "ipython",
    "version": 3
   },
   "file_extension": ".py",
   "mimetype": "text/x-python",
   "name": "python",
   "nbconvert_exporter": "python",
   "pygments_lexer": "ipython3",
   "version": "3.10.11"
  }
 },
 "nbformat": 4,
 "nbformat_minor": 2
}
